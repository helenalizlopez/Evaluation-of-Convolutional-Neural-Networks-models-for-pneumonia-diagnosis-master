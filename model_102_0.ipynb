{
 "cells": [
  {
   "cell_type": "markdown",
   "metadata": {},
   "source": [
    "Copia versión 121 modificando el número de neuronas de las capas conv2d"
   ]
  },
  {
   "cell_type": "code",
   "execution_count": 1,
   "metadata": {},
   "outputs": [
    {
     "name": "stderr",
     "output_type": "stream",
     "text": [
      "Using TensorFlow backend.\n",
      "/home/isua/anaconda3/envs/CAPRI/lib/python3.7/site-packages/tensorflow/python/framework/dtypes.py:516: FutureWarning: Passing (type, 1) or '1type' as a synonym of type is deprecated; in a future version of numpy, it will be understood as (type, (1,)) / '(1,)type'.\n",
      "  _np_qint8 = np.dtype([(\"qint8\", np.int8, 1)])\n",
      "/home/isua/anaconda3/envs/CAPRI/lib/python3.7/site-packages/tensorflow/python/framework/dtypes.py:517: FutureWarning: Passing (type, 1) or '1type' as a synonym of type is deprecated; in a future version of numpy, it will be understood as (type, (1,)) / '(1,)type'.\n",
      "  _np_quint8 = np.dtype([(\"quint8\", np.uint8, 1)])\n",
      "/home/isua/anaconda3/envs/CAPRI/lib/python3.7/site-packages/tensorflow/python/framework/dtypes.py:518: FutureWarning: Passing (type, 1) or '1type' as a synonym of type is deprecated; in a future version of numpy, it will be understood as (type, (1,)) / '(1,)type'.\n",
      "  _np_qint16 = np.dtype([(\"qint16\", np.int16, 1)])\n",
      "/home/isua/anaconda3/envs/CAPRI/lib/python3.7/site-packages/tensorflow/python/framework/dtypes.py:519: FutureWarning: Passing (type, 1) or '1type' as a synonym of type is deprecated; in a future version of numpy, it will be understood as (type, (1,)) / '(1,)type'.\n",
      "  _np_quint16 = np.dtype([(\"quint16\", np.uint16, 1)])\n",
      "/home/isua/anaconda3/envs/CAPRI/lib/python3.7/site-packages/tensorflow/python/framework/dtypes.py:520: FutureWarning: Passing (type, 1) or '1type' as a synonym of type is deprecated; in a future version of numpy, it will be understood as (type, (1,)) / '(1,)type'.\n",
      "  _np_qint32 = np.dtype([(\"qint32\", np.int32, 1)])\n",
      "/home/isua/anaconda3/envs/CAPRI/lib/python3.7/site-packages/tensorflow/python/framework/dtypes.py:525: FutureWarning: Passing (type, 1) or '1type' as a synonym of type is deprecated; in a future version of numpy, it will be understood as (type, (1,)) / '(1,)type'.\n",
      "  np_resource = np.dtype([(\"resource\", np.ubyte, 1)])\n",
      "/home/isua/anaconda3/envs/CAPRI/lib/python3.7/site-packages/tensorboard/compat/tensorflow_stub/dtypes.py:541: FutureWarning: Passing (type, 1) or '1type' as a synonym of type is deprecated; in a future version of numpy, it will be understood as (type, (1,)) / '(1,)type'.\n",
      "  _np_qint8 = np.dtype([(\"qint8\", np.int8, 1)])\n",
      "/home/isua/anaconda3/envs/CAPRI/lib/python3.7/site-packages/tensorboard/compat/tensorflow_stub/dtypes.py:542: FutureWarning: Passing (type, 1) or '1type' as a synonym of type is deprecated; in a future version of numpy, it will be understood as (type, (1,)) / '(1,)type'.\n",
      "  _np_quint8 = np.dtype([(\"quint8\", np.uint8, 1)])\n",
      "/home/isua/anaconda3/envs/CAPRI/lib/python3.7/site-packages/tensorboard/compat/tensorflow_stub/dtypes.py:543: FutureWarning: Passing (type, 1) or '1type' as a synonym of type is deprecated; in a future version of numpy, it will be understood as (type, (1,)) / '(1,)type'.\n",
      "  _np_qint16 = np.dtype([(\"qint16\", np.int16, 1)])\n",
      "/home/isua/anaconda3/envs/CAPRI/lib/python3.7/site-packages/tensorboard/compat/tensorflow_stub/dtypes.py:544: FutureWarning: Passing (type, 1) or '1type' as a synonym of type is deprecated; in a future version of numpy, it will be understood as (type, (1,)) / '(1,)type'.\n",
      "  _np_quint16 = np.dtype([(\"quint16\", np.uint16, 1)])\n",
      "/home/isua/anaconda3/envs/CAPRI/lib/python3.7/site-packages/tensorboard/compat/tensorflow_stub/dtypes.py:545: FutureWarning: Passing (type, 1) or '1type' as a synonym of type is deprecated; in a future version of numpy, it will be understood as (type, (1,)) / '(1,)type'.\n",
      "  _np_qint32 = np.dtype([(\"qint32\", np.int32, 1)])\n",
      "/home/isua/anaconda3/envs/CAPRI/lib/python3.7/site-packages/tensorboard/compat/tensorflow_stub/dtypes.py:550: FutureWarning: Passing (type, 1) or '1type' as a synonym of type is deprecated; in a future version of numpy, it will be understood as (type, (1,)) / '(1,)type'.\n",
      "  np_resource = np.dtype([(\"resource\", np.ubyte, 1)])\n"
     ]
    }
   ],
   "source": [
    "from keras.preprocessing.image import ImageDataGenerator, load_img, img_to_array\n",
    "\n",
    "import matplotlib.pyplot as plt\n",
    "import seaborn as sns\n",
    "import os\n",
    "import numpy as np\n",
    "import pandas as pd\n",
    "\n",
    "%matplotlib inline"
   ]
  },
  {
   "cell_type": "markdown",
   "metadata": {},
   "source": [
    "# Carga de datos"
   ]
  },
  {
   "cell_type": "code",
   "execution_count": 2,
   "metadata": {},
   "outputs": [],
   "source": [
    "X_train_names_0 = os.listdir('datasets/kfold0/train/0_non_consolidation/')\n",
    "X_train_names_1 = os.listdir('datasets/kfold0/train/1_consolidation/')\n",
    "X_test_names_0 = os.listdir('datasets/kfold0/test/0_non_consolidation/')\n",
    "X_test_names_1 = os.listdir('datasets/kfold0/test/1_consolidation/')"
   ]
  },
  {
   "cell_type": "code",
   "execution_count": 3,
   "metadata": {},
   "outputs": [],
   "source": [
    "from PIL import Image\n",
    "\n",
    "def my_load_img(f):\n",
    "    img = Image.open(f)\n",
    "    fp = img.fp\n",
    "    img.load()\n",
    "    fp.closed\n",
    "    return img"
   ]
  },
  {
   "cell_type": "code",
   "execution_count": 4,
   "metadata": {},
   "outputs": [],
   "source": [
    "X_train_0 = []\n",
    "for i in X_train_names_0:\n",
    "    image = my_load_img('datasets/kfold0/train/0_non_consolidation/'+i)\n",
    "    X_train_0.append(image)\n",
    "\n",
    "    \n",
    "X_train_1 = []\n",
    "for i in X_train_names_1:\n",
    "    image = my_load_img('datasets/kfold0/train/1_consolidation/'+i)\n",
    "    X_train_1.append(image)\n",
    "    \n",
    "    \n",
    "X_test_0 = []\n",
    "for i in X_test_names_0:\n",
    "    image = my_load_img('datasets/kfold0/test/0_non_consolidation/'+i)\n",
    "    X_test_0.append(image)\n",
    "    \n",
    "    \n",
    "X_test_1 = []\n",
    "for i in X_test_names_1:\n",
    "    image = my_load_img('datasets/kfold0/test/1_consolidation/'+i)\n",
    "    X_test_1.append(image)"
   ]
  },
  {
   "cell_type": "code",
   "execution_count": 5,
   "metadata": {},
   "outputs": [],
   "source": [
    "total_images = len(X_train_0)+len(X_train_1)+len(X_test_0)+len(X_test_1)"
   ]
  },
  {
   "cell_type": "code",
   "execution_count": 6,
   "metadata": {},
   "outputs": [
    {
     "name": "stdout",
     "output_type": "stream",
     "text": [
      "okey\n"
     ]
    }
   ],
   "source": [
    "if total_images == 950:\n",
    "    print('okey')\n",
    "else:\n",
    "    print('error')"
   ]
  },
  {
   "cell_type": "code",
   "execution_count": 7,
   "metadata": {},
   "outputs": [],
   "source": [
    "y_train_0 = [0] * len(X_train_0)\n",
    "y_train_1 = [1] * len(X_train_1)\n",
    "\n",
    "y_test_0 = [0] * len(X_test_0)\n",
    "y_test_1 = [1] * len(X_test_1)\n",
    "\n",
    "y_train = y_train_0 + y_train_1\n",
    "y_test= y_test_0 + y_test_1"
   ]
  },
  {
   "cell_type": "code",
   "execution_count": 8,
   "metadata": {},
   "outputs": [],
   "source": [
    "X_train = X_train_0 + X_train_1\n",
    "X_test = X_test_0 + X_test_1"
   ]
  },
  {
   "cell_type": "code",
   "execution_count": 9,
   "metadata": {},
   "outputs": [
    {
     "name": "stdout",
     "output_type": "stream",
     "text": [
      "760\n",
      "190\n",
      "950\n"
     ]
    }
   ],
   "source": [
    "print(len(X_train))\n",
    "print(len(X_test))\n",
    "print(len(X_train)+len(X_test))"
   ]
  },
  {
   "cell_type": "markdown",
   "metadata": {},
   "source": [
    "# Chequeos en los datos"
   ]
  },
  {
   "cell_type": "code",
   "execution_count": 11,
   "metadata": {},
   "outputs": [
    {
     "data": {
      "image/png": "[encoded data removed]",
      "text/plain": [
       "<Figure size 432x288 with 1 Axes>"
      ]
     },
     "metadata": {
      "needs_background": "light"
     },
     "output_type": "display_data"
    }
   ],
   "source": [
    "X_train_0_n = len(X_train_0)\n",
    "X_train_1_n = len(X_train_1)\n",
    "X_train_plot = X_train_0_n, X_train_1_n\n",
    "\n",
    "from matplotlib.ticker import FuncFormatter\n",
    "import matplotlib.pyplot as plt\n",
    "import numpy as np\n",
    "\n",
    "X = ['normal', 'consolidation']\n",
    "\n",
    "fig, ax = plt.subplots()\n",
    "plt.bar(X, X_train_plot, color=['blue', 'magenta'])\n",
    "plt.xticks(X, ('normal', 'consolidation'))\n",
    "plt.show()"
   ]
  },
  {
   "cell_type": "code",
   "execution_count": 12,
   "metadata": {},
   "outputs": [
    {
     "data": {
      "image/png": "[encoded data removed]",
      "text/plain": [
       "<Figure size 432x288 with 1 Axes>"
      ]
     },
     "metadata": {
      "needs_background": "light"
     },
     "output_type": "display_data"
    }
   ],
   "source": [
    "X_test_0_n = len(X_test_0)\n",
    "X_test_1_n = len(X_test_1)\n",
    "X_test_plot = X_test_0_n, X_test_1_n\n",
    "\n",
    "from matplotlib.ticker import FuncFormatter\n",
    "import matplotlib.pyplot as plt\n",
    "import numpy as np\n",
    "\n",
    "X = ['normal', 'consolidation']\n",
    "\n",
    "fig, ax = plt.subplots()\n",
    "plt.bar(X, X_test_plot, color=['blue', 'magenta'])\n",
    "plt.xticks(X, ('normal', 'consolidation'))\n",
    "plt.show()"
   ]
  },
  {
   "cell_type": "markdown",
   "metadata": {},
   "source": [
    "## Paso a grises:"
   ]
  },
  {
   "cell_type": "code",
   "execution_count": 13,
   "metadata": {},
   "outputs": [],
   "source": [
    "X_train_gris = []\n",
    "for im in X_train:\n",
    "    X_train_gris.append(im.convert(\"L\"))\n",
    "    \n",
    "    \n",
    "X_test_gris = []\n",
    "for im in X_test:\n",
    "    X_test_gris.append(im.convert(\"L\"))"
   ]
  },
  {
   "cell_type": "markdown",
   "metadata": {},
   "source": [
    "# Modelos básicos"
   ]
  },
  {
   "cell_type": "markdown",
   "metadata": {},
   "source": [
    "## Dummy"
   ]
  },
  {
   "cell_type": "code",
   "execution_count": 16,
   "metadata": {},
   "outputs": [
    {
     "name": "stdout",
     "output_type": "stream",
     "text": [
      "Score del clasificador Dummy en test: 0.5736842105263158\n"
     ]
    }
   ],
   "source": [
    "from sklearn.dummy import DummyClassifier\n",
    "\n",
    "clf = DummyClassifier(strategy='prior')\n",
    "clf.fit(X=X_train_gris, y=y_train)\n",
    "print('Score del clasificador Dummy en test:', clf.score(X=X_test_gris,y=y_test))\n",
    "# Nota: DummyClassifier en realidad no usa X"
   ]
  },
  {
   "cell_type": "code",
   "execution_count": 17,
   "metadata": {},
   "outputs": [
    {
     "data": {
      "image/png": "[encoded data removed]",
      "text/plain": [
       "<Figure size 360x360 with 2 Axes>"
      ]
     },
     "metadata": {
      "needs_background": "light"
     },
     "output_type": "display_data"
    }
   ],
   "source": [
    "from scikitplot.metrics import plot_confusion_matrix # pip install scikit-plot\n",
    "plot_confusion_matrix(y_test, clf.predict(X_test_gris),\n",
    "                      x_tick_rotation=60, figsize=(5,5),\n",
    "                      text_fontsize='large');"
   ]
  },
  {
   "cell_type": "markdown",
   "metadata": {},
   "source": [
    "## Regresión Logística"
   ]
  },
  {
   "cell_type": "markdown",
   "metadata": {},
   "source": [
    "### Primero \"aplano\" las imágenes:"
   ]
  },
  {
   "cell_type": "code",
   "execution_count": 18,
   "metadata": {},
   "outputs": [
    {
     "data": {
      "text/plain": [
       "((760, 100, 100), (190, 100, 100))"
      ]
     },
     "execution_count": 18,
     "metadata": {},
     "output_type": "execute_result"
    }
   ],
   "source": [
    "new_size = (100,100)\n",
    "\n",
    "imagenes_tr_resized = np.array([np.array(im.resize(new_size)) for im in X_train_gris]) / 255\n",
    "imagenes_te_resized = np.array([np.array(im.resize(new_size)) for im in X_test_gris]) / 255\n",
    "\n",
    "imagenes_tr_resized.shape, imagenes_te_resized.shape"
   ]
  },
  {
   "cell_type": "code",
   "execution_count": 19,
   "metadata": {},
   "outputs": [
    {
     "data": {
      "text/plain": [
       "((760, 10000), (190, 10000))"
      ]
     },
     "execution_count": 19,
     "metadata": {},
     "output_type": "execute_result"
    }
   ],
   "source": [
    "imagenes_tr_flat = imagenes_tr_resized.reshape(len(imagenes_tr_resized), -1)\n",
    "imagenes_te_flat = imagenes_te_resized.reshape(len(imagenes_te_resized), -1)\n",
    "\n",
    "imagenes_tr_flat.shape, imagenes_te_flat.shape"
   ]
  },
  {
   "cell_type": "code",
   "execution_count": 20,
   "metadata": {},
   "outputs": [
    {
     "name": "stderr",
     "output_type": "stream",
     "text": [
      "/home/isua/anaconda3/envs/CAPRI/lib/python3.7/site-packages/sklearn/linear_model/logistic.py:432: FutureWarning: Default solver will be changed to 'lbfgs' in 0.22. Specify a solver to silence this warning.\n",
      "  FutureWarning)\n"
     ]
    },
    {
     "name": "stdout",
     "output_type": "stream",
     "text": [
      "Score de la regresión logística en test: 0.5473684210526316\n"
     ]
    }
   ],
   "source": [
    "from sklearn.linear_model import LogisticRegression\n",
    "\n",
    "clf = LogisticRegression()\n",
    "clf.fit(X=imagenes_tr_flat, y=y_train)\n",
    "print('Score de la regresión logística en test:', clf.score(X=imagenes_te_flat,y=y_test))"
   ]
  },
  {
   "cell_type": "code",
   "execution_count": 21,
   "metadata": {},
   "outputs": [],
   "source": [
    "y_te_pred = clf.predict(imagenes_te_flat)"
   ]
  },
  {
   "cell_type": "code",
   "execution_count": 22,
   "metadata": {},
   "outputs": [
    {
     "data": {
      "image/png": "[encoded data removed]",
      "text/plain": [
       "<Figure size 360x360 with 2 Axes>"
      ]
     },
     "metadata": {
      "needs_background": "light"
     },
     "output_type": "display_data"
    }
   ],
   "source": [
    "plot_confusion_matrix(y_test, y_te_pred, cmap=\"bwr\",\n",
    "                      x_tick_rotation=60, figsize=(5,5),\n",
    "                      text_fontsize='large');"
   ]
  },
  {
   "cell_type": "code",
   "execution_count": 23,
   "metadata": {},
   "outputs": [],
   "source": [
    "from sklearn.metrics import classification_report, roc_curve, auc\n",
    "\n",
    "def report(y_num, y_pred, y_prob_pred):\n",
    "    print('')\n",
    "    print(classification_report(y_num, y_pred))\n",
    "\n",
    "    fpr, tpr, thresholds = roc_curve(y_num, y_prob_pred)\n",
    "    fig, ax1 = plt.subplots(1,1)\n",
    "    ax1.plot(fpr, tpr, 'r-.', label = 'Simple model (%2.2f)' % auc(fpr, tpr))\n",
    "    ax1.set_xlabel('False Positive Rate')\n",
    "    ax1.set_ylabel('True Positive Rate')\n",
    "    ax1.plot(fpr, fpr, 'b-', label = 'Random Guess')\n",
    "    ax1.legend();"
   ]
  },
  {
   "cell_type": "code",
   "execution_count": 24,
   "metadata": {},
   "outputs": [
    {
     "data": {
      "text/plain": [
       "array([0, 1])"
      ]
     },
     "execution_count": 24,
     "metadata": {},
     "output_type": "execute_result"
    }
   ],
   "source": [
    "clf.classes_"
   ]
  },
  {
   "cell_type": "code",
   "execution_count": 25,
   "metadata": {},
   "outputs": [
    {
     "name": "stdout",
     "output_type": "stream",
     "text": [
      "\n",
      "              precision    recall  f1-score   support\n",
      "\n",
      "           0       0.60      0.64      0.62       109\n",
      "           1       0.47      0.42      0.44        81\n",
      "\n",
      "    accuracy                           0.55       190\n",
      "   macro avg       0.53      0.53      0.53       190\n",
      "weighted avg       0.54      0.55      0.54       190\n",
      "\n"
     ]
    },
    {
     "data": {
      "image/png": "[encoded data removed]",
      "text/plain": [
       "<Figure size 432x288 with 1 Axes>"
      ]
     },
     "metadata": {
      "needs_background": "light"
     },
     "output_type": "display_data"
    }
   ],
   "source": [
    "report(y_test, y_te_pred,\n",
    "            clf.predict_proba(imagenes_te_flat)[:,1])"
   ]
  },
  {
   "cell_type": "markdown",
   "metadata": {},
   "source": [
    "# CNN"
   ]
  },
  {
   "cell_type": "code",
   "execution_count": 26,
   "metadata": {},
   "outputs": [],
   "source": [
    "from keras.models import Sequential, load_model, Model\n",
    "from keras.layers import (Dense, Dropout, Flatten, Conv2D, MaxPooling2D, Activation,\n",
    "                          BatchNormalization)\n",
    "from keras import backend as K\n",
    "from keras import regularizers\n",
    "from keras.losses import binary_crossentropy\n",
    "from keras import optimizers\n",
    "from keras.callbacks import ModelCheckpoint\n",
    "\n",
    "from IPython.display import SVG\n",
    "from keras.utils.vis_utils import model_to_dot"
   ]
  },
  {
   "cell_type": "code",
   "execution_count": 27,
   "metadata": {},
   "outputs": [
    {
     "data": {
      "text/plain": [
       "((760, 150, 150), (190, 150, 150))"
      ]
     },
     "execution_count": 27,
     "metadata": {},
     "output_type": "execute_result"
    }
   ],
   "source": [
    "new_size = (150,150)\n",
    "\n",
    "aux_tr = np.array([np.array(im.resize(new_size)) for im in X_train_gris])\n",
    "aux_te = np.array([np.array(im.resize(new_size)) for im in X_test_gris])\n",
    "\n",
    "aux_tr.shape, aux_te.shape"
   ]
  },
  {
   "cell_type": "code",
   "execution_count": 28,
   "metadata": {},
   "outputs": [],
   "source": [
    "imgs_tr_resized2 = np.array([np.expand_dims(np.array(im),2) for im in aux_tr]) / 255\n",
    "imgs_te_resized2 = np.array([np.expand_dims(np.array(im),2) for im in aux_te]) / 255"
   ]
  },
  {
   "cell_type": "code",
   "execution_count": 29,
   "metadata": {},
   "outputs": [
    {
     "data": {
      "text/plain": [
       "1.0"
      ]
     },
     "execution_count": 29,
     "metadata": {},
     "output_type": "execute_result"
    }
   ],
   "source": [
    "imgs_tr_resized2.max()"
   ]
  },
  {
   "cell_type": "code",
   "execution_count": 30,
   "metadata": {},
   "outputs": [
    {
     "data": {
      "text/plain": [
       "(150, 150, 1)"
      ]
     },
     "execution_count": 30,
     "metadata": {},
     "output_type": "execute_result"
    }
   ],
   "source": [
    "imgs_tr_resized2[0].shape"
   ]
  },
  {
   "cell_type": "code",
   "execution_count": 31,
   "metadata": {},
   "outputs": [],
   "source": [
    "norm_images_tr = []\n",
    "\n",
    "for image in imgs_tr_resized2:\n",
    "    norm_image = np.divide(image, image.mean())\n",
    "    norm_images_tr.append(norm_image)\n",
    "    \n",
    "    \n",
    "norm_images_te = []\n",
    "\n",
    "for image in imgs_te_resized2:\n",
    "    norm_image = np.divide(image, image.mean())\n",
    "    norm_images_te.append(norm_image)"
   ]
  },
  {
   "cell_type": "code",
   "execution_count": 32,
   "metadata": {},
   "outputs": [],
   "source": [
    "imgs_tr_resized2 = np.array(norm_images_tr)\n",
    "imgs_te_resized2 = np.array(norm_images_te)"
   ]
  },
  {
   "cell_type": "code",
   "execution_count": 33,
   "metadata": {},
   "outputs": [],
   "source": [
    "def mi_montage2d(data):\n",
    "    n = len(data)\n",
    "    lado = int(np.ceil(np.sqrt(n)))\n",
    "    alto1, ancho1 = data.shape[1:]\n",
    "    aux = np.zeros((lado*alto1, lado*ancho1))\n",
    "    for i,image in enumerate(data):\n",
    "        row = i // lado\n",
    "        col = i % lado\n",
    "        aux[(row*alto1):((row+1)*alto1), (col*ancho1):((col+1)*ancho1)] = image\n",
    "    return aux\n",
    "\n",
    "def draw_borders(ax, ntiles, tile_width, tile_height, color='r'):\n",
    "    \n",
    "    aux1 = int(np.ceil(np.sqrt(ntiles)))\n",
    "    \n",
    "    npixels_y = tile_height*aux1\n",
    "    for i in range(aux1-1):\n",
    "        aux2 = (i+1)*tile_width - 0.5\n",
    "        ax.plot([aux2, aux2], [0, npixels_y - 1], color, linewidth=3)\n",
    "        \n",
    "    npixels_x = tile_width*aux1\n",
    "    for i in range(aux1-1):\n",
    "        aux2 = (i+1)*tile_height - 0.5\n",
    "        ax.plot([0, npixels_x - 1], [aux2, aux2], color)"
   ]
  },
  {
   "cell_type": "code",
   "execution_count": 34,
   "metadata": {},
   "outputs": [
    {
     "data": {
      "image/png": "[encoded data removed]",
      "text/plain": [
       "<Figure size 720x216 with 1 Axes>"
      ]
     },
     "metadata": {
      "needs_background": "light"
     },
     "output_type": "display_data"
    }
   ],
   "source": [
    "plt.figure(figsize=(10,3))\n",
    "sns.distplot(imgs_tr_resized2.reshape(-1), bins=50, hist=True, kde=True)\n",
    "plt.xlabel('Intensidades de los pixels (training)', fontsize=14);"
   ]
  },
  {
   "cell_type": "code",
   "execution_count": 36,
   "metadata": {},
   "outputs": [],
   "source": [
    "from matplotlib.ticker import MaxNLocator\n",
    "\n",
    "def grafica_entrenamiento(tr_acc=[], val_acc=[], tr_loss=[], val_loss=[], best_epoch=0,\n",
    "                          figsize=(10,4)):\n",
    "    plt.figure(figsize=figsize)\n",
    "    if len(val_acc)>0:\n",
    "        ax = plt.subplot(1,2,1)\n",
    "        plt.plot(1+np.arange(len(tr_acc)),  100*np.array(tr_acc))\n",
    "        plt.plot(1+np.arange(len(val_acc)), 100*np.array(val_acc))\n",
    "        plt.plot(1+best_epoch, 100*val_acc[best_epoch], 'or')\n",
    "        plt.title('tasa de acierto del modelo (%)', fontsize=18)\n",
    "        plt.ylabel('tasa de acierto (%)', fontsize=18)\n",
    "        plt.xlabel('época', fontsize=18)\n",
    "        plt.legend(['entrenamiento', 'validación'], loc='upper left')\n",
    "        ax.xaxis.set_major_locator(MaxNLocator(integer=True))\n",
    "        ax = plt.subplot(1,2,2)\n",
    "    else:\n",
    "        ax = plt.subplot(1,1,1)\n",
    "    \n",
    "    plt.plot(1+np.arange(len(tr_loss)), np.array(tr_loss))\n",
    "    plt.plot(1+np.arange(len(val_loss)), np.array(val_loss))\n",
    "    plt.plot(1+best_epoch, val_loss[best_epoch], 'or')\n",
    "    plt.title('loss del modelo', fontsize=18)\n",
    "    plt.ylabel('loss', fontsize=18)\n",
    "    plt.xlabel('época', fontsize=18)\n",
    "    plt.legend(['entrenamiento', 'validación'], loc='upper left')\n",
    "    ax.xaxis.set_major_locator(MaxNLocator(integer=True))\n",
    "    plt.show()"
   ]
  },
  {
   "cell_type": "markdown",
   "metadata": {},
   "source": [
    "## Arquitectura del modelo"
   ]
  },
  {
   "cell_type": "code",
   "execution_count": 37,
   "metadata": {},
   "outputs": [
    {
     "data": {
      "text/plain": [
       "(760, 150, 150, 1)"
      ]
     },
     "execution_count": 37,
     "metadata": {},
     "output_type": "execute_result"
    }
   ],
   "source": [
    "imgs_tr_resized2.shape"
   ]
  },
  {
   "cell_type": "code",
   "execution_count": 38,
   "metadata": {},
   "outputs": [
    {
     "name": "stderr",
     "output_type": "stream",
     "text": [
      "WARNING: Logging before flag parsing goes to stderr.\n",
      "W1110 00:11:21.364014 139996858103616 deprecation_wrapper.py:119] From /home/isua/anaconda3/envs/CAPRI/lib/python3.7/site-packages/keras/backend/tensorflow_backend.py:74: The name tf.get_default_graph is deprecated. Please use tf.compat.v1.get_default_graph instead.\n",
      "\n",
      "W1110 00:11:21.380275 139996858103616 deprecation_wrapper.py:119] From /home/isua/anaconda3/envs/CAPRI/lib/python3.7/site-packages/keras/backend/tensorflow_backend.py:517: The name tf.placeholder is deprecated. Please use tf.compat.v1.placeholder instead.\n",
      "\n",
      "W1110 00:11:21.393449 139996858103616 deprecation_wrapper.py:119] From /home/isua/anaconda3/envs/CAPRI/lib/python3.7/site-packages/keras/backend/tensorflow_backend.py:174: The name tf.get_default_session is deprecated. Please use tf.compat.v1.get_default_session instead.\n",
      "\n",
      "W1110 00:11:21.394144 139996858103616 deprecation_wrapper.py:119] From /home/isua/anaconda3/envs/CAPRI/lib/python3.7/site-packages/keras/backend/tensorflow_backend.py:181: The name tf.ConfigProto is deprecated. Please use tf.compat.v1.ConfigProto instead.\n",
      "\n",
      "W1110 00:11:21.394687 139996858103616 deprecation_wrapper.py:119] From /home/isua/anaconda3/envs/CAPRI/lib/python3.7/site-packages/keras/backend/tensorflow_backend.py:186: The name tf.Session is deprecated. Please use tf.compat.v1.Session instead.\n",
      "\n",
      "W1110 00:11:21.441385 139996858103616 deprecation_wrapper.py:119] From /home/isua/anaconda3/envs/CAPRI/lib/python3.7/site-packages/keras/backend/tensorflow_backend.py:1834: The name tf.nn.fused_batch_norm is deprecated. Please use tf.compat.v1.nn.fused_batch_norm instead.\n",
      "\n",
      "W1110 00:11:21.492201 139996858103616 deprecation_wrapper.py:119] From /home/isua/anaconda3/envs/CAPRI/lib/python3.7/site-packages/keras/backend/tensorflow_backend.py:3976: The name tf.nn.max_pool is deprecated. Please use tf.nn.max_pool2d instead.\n",
      "\n",
      "W1110 00:11:21.845416 139996858103616 deprecation.py:506] From /home/isua/anaconda3/envs/CAPRI/lib/python3.7/site-packages/keras/backend/tensorflow_backend.py:3445: calling dropout (from tensorflow.python.ops.nn_ops) with keep_prob is deprecated and will be removed in a future version.\n",
      "Instructions for updating:\n",
      "Please use `rate` instead of `keep_prob`. Rate should be set to `rate = 1 - keep_prob`.\n",
      "W1110 00:11:21.845941 139996858103616 nn_ops.py:4224] Large dropout rate: 0.7 (>0.5). In TensorFlow 2.x, dropout() uses dropout rate instead of keep_prob. Please ensure that this is intended.\n",
      "W1110 00:11:21.971248 139996858103616 deprecation_wrapper.py:119] From /home/isua/anaconda3/envs/CAPRI/lib/python3.7/site-packages/keras/optimizers.py:790: The name tf.train.Optimizer is deprecated. Please use tf.compat.v1.train.Optimizer instead.\n",
      "\n"
     ]
    }
   ],
   "source": [
    "input_shape = imgs_tr_resized2.shape[1:]\n",
    "\n",
    "model = Sequential()\n",
    "model.add(BatchNormalization(input_shape=input_shape))\n",
    "\n",
    "model.add(Conv2D(filters=32,\n",
    "                 kernel_size=(11,11),\n",
    "                 activation='relu'))\n",
    "model.add(MaxPooling2D(pool_size=(2,2)))\n",
    "model.add(BatchNormalization())\n",
    "\n",
    "model.add(Conv2D(filters=32,\n",
    "                 kernel_size=(7,7),\n",
    "                 activation='relu'))\n",
    "model.add(MaxPooling2D(pool_size=(2,2)))\n",
    "model.add(BatchNormalization())\n",
    "\n",
    "model.add(Conv2D(filters=32,\n",
    "                 kernel_size=(5,5),\n",
    "                 activation='relu'))\n",
    "model.add(MaxPooling2D(pool_size=(2,2)))\n",
    "model.add(BatchNormalization())\n",
    "\n",
    "model.add(Conv2D(filters=32,\n",
    "                 kernel_size=(3,3),\n",
    "                 activation='relu'))\n",
    "model.add(MaxPooling2D(pool_size=(2,2)))\n",
    "model.add(BatchNormalization())\n",
    "\n",
    "model.add(Flatten()) # capa de aplanamiento\n",
    "model.add(Dropout(0.7))\n",
    "model.add(Dense(256, activation='relu',\n",
    "                kernel_regularizer=regularizers.l2(l=0.01)\n",
    "               ),\n",
    "         )\n",
    "model.add(BatchNormalization())\n",
    "model.add(Dense(2, activation='softmax'))\n",
    "\n",
    "model.compile(loss='categorical_crossentropy',\n",
    "#              optimizer='Adam',\n",
    "              optimizer=optimizers.Adam(lr=0.0001),\n",
    "              metrics=['accuracy'])"
   ]
  },
  {
   "cell_type": "code",
   "execution_count": 39,
   "metadata": {},
   "outputs": [
    {
     "name": "stdout",
     "output_type": "stream",
     "text": [
      "_________________________________________________________________\n",
      "Layer (type)                 Output Shape              Param #   \n",
      "=================================================================\n",
      "batch_normalization_1 (Batch (None, 150, 150, 1)       4         \n",
      "_________________________________________________________________\n",
      "conv2d_1 (Conv2D)            (None, 140, 140, 32)      3904      \n",
      "_________________________________________________________________\n",
      "max_pooling2d_1 (MaxPooling2 (None, 70, 70, 32)        0         \n",
      "_________________________________________________________________\n",
      "batch_normalization_2 (Batch (None, 70, 70, 32)        128       \n",
      "_________________________________________________________________\n",
      "conv2d_2 (Conv2D)            (None, 64, 64, 32)        50208     \n",
      "_________________________________________________________________\n",
      "max_pooling2d_2 (MaxPooling2 (None, 32, 32, 32)        0         \n",
      "_________________________________________________________________\n",
      "batch_normalization_3 (Batch (None, 32, 32, 32)        128       \n",
      "_________________________________________________________________\n",
      "conv2d_3 (Conv2D)            (None, 28, 28, 32)        25632     \n",
      "_________________________________________________________________\n",
      "max_pooling2d_3 (MaxPooling2 (None, 14, 14, 32)        0         \n",
      "_________________________________________________________________\n",
      "batch_normalization_4 (Batch (None, 14, 14, 32)        128       \n",
      "_________________________________________________________________\n",
      "conv2d_4 (Conv2D)            (None, 12, 12, 32)        9248      \n",
      "_________________________________________________________________\n",
      "max_pooling2d_4 (MaxPooling2 (None, 6, 6, 32)          0         \n",
      "_________________________________________________________________\n",
      "batch_normalization_5 (Batch (None, 6, 6, 32)          128       \n",
      "_________________________________________________________________\n",
      "flatten_1 (Flatten)          (None, 1152)              0         \n",
      "_________________________________________________________________\n",
      "dropout_1 (Dropout)          (None, 1152)              0         \n",
      "_________________________________________________________________\n",
      "dense_1 (Dense)              (None, 256)               295168    \n",
      "_________________________________________________________________\n",
      "batch_normalization_6 (Batch (None, 256)               1024      \n",
      "_________________________________________________________________\n",
      "dense_2 (Dense)              (None, 2)                 514       \n",
      "=================================================================\n",
      "Total params: 386,214\n",
      "Trainable params: 385,444\n",
      "Non-trainable params: 770\n",
      "_________________________________________________________________\n"
     ]
    }
   ],
   "source": [
    "model.summary()"
   ]
  },
  {
   "cell_type": "code",
   "execution_count": 40,
   "metadata": {
    "scrolled": true
   },
   "outputs": [
    {
     "data": {
      "image/svg+xml": [
       "<svg height=\"1539pt\" viewBox=\"0.00 0.00 448.00 1539.00\" width=\"448pt\" xmlns=\"http://www.w3.org/2000/svg\" xmlns:xlink=\"http://www.w3.org/1999/xlink\">\n",
       "<g class=\"graph\" id=\"graph0\" transform=\"scale(1 1) rotate(0) translate(4 1535)\">\n",
       "<title>G</title>\n",
       "<polygon fill=\"#ffffff\" points=\"-4,4 -4,-1535 444,-1535 444,4 -4,4\" stroke=\"transparent\"/>\n",
       "<!-- 139995130453912 -->\n",
       "<g class=\"node\" id=\"node1\">\n",
       "<title>139995130453912</title>\n",
       "<polygon fill=\"none\" points=\"0,-1411.5 0,-1457.5 440,-1457.5 440,-1411.5 0,-1411.5\" stroke=\"#000000\"/>\n",
       "<text fill=\"#000000\" font-family=\"Times,serif\" font-size=\"14.00\" text-anchor=\"middle\" x=\"130\" y=\"-1430.8\">batch_normalization_1: BatchNormalization</text>\n",
       "<polyline fill=\"none\" points=\"260,-1411.5 260,-1457.5 \" stroke=\"#000000\"/>\n",
       "<text fill=\"#000000\" font-family=\"Times,serif\" font-size=\"14.00\" text-anchor=\"middle\" x=\"287.5\" y=\"-1442.3\">input:</text>\n",
       "<polyline fill=\"none\" points=\"260,-1434.5 315,-1434.5 \" stroke=\"#000000\"/>\n",
       "<text fill=\"#000000\" font-family=\"Times,serif\" font-size=\"14.00\" text-anchor=\"middle\" x=\"287.5\" y=\"-1419.3\">output:</text>\n",
       "<polyline fill=\"none\" points=\"315,-1411.5 315,-1457.5 \" stroke=\"#000000\"/>\n",
       "<text fill=\"#000000\" font-family=\"Times,serif\" font-size=\"14.00\" text-anchor=\"middle\" x=\"377.5\" y=\"-1442.3\">(None, 150, 150, 1)</text>\n",
       "<polyline fill=\"none\" points=\"315,-1434.5 440,-1434.5 \" stroke=\"#000000\"/>\n",
       "<text fill=\"#000000\" font-family=\"Times,serif\" font-size=\"14.00\" text-anchor=\"middle\" x=\"377.5\" y=\"-1419.3\">(None, 150, 150, 1)</text>\n",
       "</g>\n",
       "<!-- 139994986294296 -->\n",
       "<g class=\"node\" id=\"node2\">\n",
       "<title>139994986294296</title>\n",
       "<polygon fill=\"none\" points=\"65.5,-1328.5 65.5,-1374.5 374.5,-1374.5 374.5,-1328.5 65.5,-1328.5\" stroke=\"#000000\"/>\n",
       "<text fill=\"#000000\" font-family=\"Times,serif\" font-size=\"14.00\" text-anchor=\"middle\" x=\"127\" y=\"-1347.8\">conv2d_1: Conv2D</text>\n",
       "<polyline fill=\"none\" points=\"188.5,-1328.5 188.5,-1374.5 \" stroke=\"#000000\"/>\n",
       "<text fill=\"#000000\" font-family=\"Times,serif\" font-size=\"14.00\" text-anchor=\"middle\" x=\"216\" y=\"-1359.3\">input:</text>\n",
       "<polyline fill=\"none\" points=\"188.5,-1351.5 243.5,-1351.5 \" stroke=\"#000000\"/>\n",
       "<text fill=\"#000000\" font-family=\"Times,serif\" font-size=\"14.00\" text-anchor=\"middle\" x=\"216\" y=\"-1336.3\">output:</text>\n",
       "<polyline fill=\"none\" points=\"243.5,-1328.5 243.5,-1374.5 \" stroke=\"#000000\"/>\n",
       "<text fill=\"#000000\" font-family=\"Times,serif\" font-size=\"14.00\" text-anchor=\"middle\" x=\"309\" y=\"-1359.3\">(None, 150, 150, 1)</text>\n",
       "<polyline fill=\"none\" points=\"243.5,-1351.5 374.5,-1351.5 \" stroke=\"#000000\"/>\n",
       "<text fill=\"#000000\" font-family=\"Times,serif\" font-size=\"14.00\" text-anchor=\"middle\" x=\"309\" y=\"-1336.3\">(None, 140, 140, 32)</text>\n",
       "</g>\n",
       "<!-- 139995130453912&#45;&gt;139994986294296 -->\n",
       "<g class=\"edge\" id=\"edge2\">\n",
       "<title>139995130453912-&gt;139994986294296</title>\n",
       "<path d=\"M220,-1411.3799C220,-1403.1745 220,-1393.7679 220,-1384.8786\" fill=\"none\" stroke=\"#000000\"/>\n",
       "<polygon fill=\"#000000\" points=\"223.5001,-1384.784 220,-1374.784 216.5001,-1384.784 223.5001,-1384.784\" stroke=\"#000000\"/>\n",
       "</g>\n",
       "<!-- 139994981767656 -->\n",
       "<g class=\"node\" id=\"node3\">\n",
       "<title>139994981767656</title>\n",
       "<polygon fill=\"none\" points=\"23.5,-1245.5 23.5,-1291.5 416.5,-1291.5 416.5,-1245.5 23.5,-1245.5\" stroke=\"#000000\"/>\n",
       "<text fill=\"#000000\" font-family=\"Times,serif\" font-size=\"14.00\" text-anchor=\"middle\" x=\"127\" y=\"-1264.8\">max_pooling2d_1: MaxPooling2D</text>\n",
       "<polyline fill=\"none\" points=\"230.5,-1245.5 230.5,-1291.5 \" stroke=\"#000000\"/>\n",
       "<text fill=\"#000000\" font-family=\"Times,serif\" font-size=\"14.00\" text-anchor=\"middle\" x=\"258\" y=\"-1276.3\">input:</text>\n",
       "<polyline fill=\"none\" points=\"230.5,-1268.5 285.5,-1268.5 \" stroke=\"#000000\"/>\n",
       "<text fill=\"#000000\" font-family=\"Times,serif\" font-size=\"14.00\" text-anchor=\"middle\" x=\"258\" y=\"-1253.3\">output:</text>\n",
       "<polyline fill=\"none\" points=\"285.5,-1245.5 285.5,-1291.5 \" stroke=\"#000000\"/>\n",
       "<text fill=\"#000000\" font-family=\"Times,serif\" font-size=\"14.00\" text-anchor=\"middle\" x=\"351\" y=\"-1276.3\">(None, 140, 140, 32)</text>\n",
       "<polyline fill=\"none\" points=\"285.5,-1268.5 416.5,-1268.5 \" stroke=\"#000000\"/>\n",
       "<text fill=\"#000000\" font-family=\"Times,serif\" font-size=\"14.00\" text-anchor=\"middle\" x=\"351\" y=\"-1253.3\">(None, 70, 70, 32)</text>\n",
       "</g>\n",
       "<!-- 139994986294296&#45;&gt;139994981767656 -->\n",
       "<g class=\"edge\" id=\"edge3\">\n",
       "<title>139994986294296-&gt;139994981767656</title>\n",
       "<path d=\"M220,-1328.3799C220,-1320.1745 220,-1310.7679 220,-1301.8786\" fill=\"none\" stroke=\"#000000\"/>\n",
       "<polygon fill=\"#000000\" points=\"223.5001,-1301.784 220,-1291.784 216.5001,-1301.784 223.5001,-1301.784\" stroke=\"#000000\"/>\n",
       "</g>\n",
       "<!-- 139994980514728 -->\n",
       "<g class=\"node\" id=\"node4\">\n",
       "<title>139994980514728</title>\n",
       "<polygon fill=\"none\" points=\"3.5,-1162.5 3.5,-1208.5 436.5,-1208.5 436.5,-1162.5 3.5,-1162.5\" stroke=\"#000000\"/>\n",
       "<text fill=\"#000000\" font-family=\"Times,serif\" font-size=\"14.00\" text-anchor=\"middle\" x=\"133.5\" y=\"-1181.8\">batch_normalization_2: BatchNormalization</text>\n",
       "<polyline fill=\"none\" points=\"263.5,-1162.5 263.5,-1208.5 \" stroke=\"#000000\"/>\n",
       "<text fill=\"#000000\" font-family=\"Times,serif\" font-size=\"14.00\" text-anchor=\"middle\" x=\"291\" y=\"-1193.3\">input:</text>\n",
       "<polyline fill=\"none\" points=\"263.5,-1185.5 318.5,-1185.5 \" stroke=\"#000000\"/>\n",
       "<text fill=\"#000000\" font-family=\"Times,serif\" font-size=\"14.00\" text-anchor=\"middle\" x=\"291\" y=\"-1170.3\">output:</text>\n",
       "<polyline fill=\"none\" points=\"318.5,-1162.5 318.5,-1208.5 \" stroke=\"#000000\"/>\n",
       "<text fill=\"#000000\" font-family=\"Times,serif\" font-size=\"14.00\" text-anchor=\"middle\" x=\"377.5\" y=\"-1193.3\">(None, 70, 70, 32)</text>\n",
       "<polyline fill=\"none\" points=\"318.5,-1185.5 436.5,-1185.5 \" stroke=\"#000000\"/>\n",
       "<text fill=\"#000000\" font-family=\"Times,serif\" font-size=\"14.00\" text-anchor=\"middle\" x=\"377.5\" y=\"-1170.3\">(None, 70, 70, 32)</text>\n",
       "</g>\n",
       "<!-- 139994981767656&#45;&gt;139994980514728 -->\n",
       "<g class=\"edge\" id=\"edge4\">\n",
       "<title>139994981767656-&gt;139994980514728</title>\n",
       "<path d=\"M220,-1245.3799C220,-1237.1745 220,-1227.7679 220,-1218.8786\" fill=\"none\" stroke=\"#000000\"/>\n",
       "<polygon fill=\"#000000\" points=\"223.5001,-1218.784 220,-1208.784 216.5001,-1218.784 223.5001,-1218.784\" stroke=\"#000000\"/>\n",
       "</g>\n",
       "<!-- 139996130408824 -->\n",
       "<g class=\"node\" id=\"node5\">\n",
       "<title>139996130408824</title>\n",
       "<polygon fill=\"none\" points=\"72,-1079.5 72,-1125.5 368,-1125.5 368,-1079.5 72,-1079.5\" stroke=\"#000000\"/>\n",
       "<text fill=\"#000000\" font-family=\"Times,serif\" font-size=\"14.00\" text-anchor=\"middle\" x=\"133.5\" y=\"-1098.8\">conv2d_2: Conv2D</text>\n",
       "<polyline fill=\"none\" points=\"195,-1079.5 195,-1125.5 \" stroke=\"#000000\"/>\n",
       "<text fill=\"#000000\" font-family=\"Times,serif\" font-size=\"14.00\" text-anchor=\"middle\" x=\"222.5\" y=\"-1110.3\">input:</text>\n",
       "<polyline fill=\"none\" points=\"195,-1102.5 250,-1102.5 \" stroke=\"#000000\"/>\n",
       "<text fill=\"#000000\" font-family=\"Times,serif\" font-size=\"14.00\" text-anchor=\"middle\" x=\"222.5\" y=\"-1087.3\">output:</text>\n",
       "<polyline fill=\"none\" points=\"250,-1079.5 250,-1125.5 \" stroke=\"#000000\"/>\n",
       "<text fill=\"#000000\" font-family=\"Times,serif\" font-size=\"14.00\" text-anchor=\"middle\" x=\"309\" y=\"-1110.3\">(None, 70, 70, 32)</text>\n",
       "<polyline fill=\"none\" points=\"250,-1102.5 368,-1102.5 \" stroke=\"#000000\"/>\n",
       "<text fill=\"#000000\" font-family=\"Times,serif\" font-size=\"14.00\" text-anchor=\"middle\" x=\"309\" y=\"-1087.3\">(None, 64, 64, 32)</text>\n",
       "</g>\n",
       "<!-- 139994980514728&#45;&gt;139996130408824 -->\n",
       "<g class=\"edge\" id=\"edge5\">\n",
       "<title>139994980514728-&gt;139996130408824</title>\n",
       "<path d=\"M220,-1162.3799C220,-1154.1745 220,-1144.7679 220,-1135.8786\" fill=\"none\" stroke=\"#000000\"/>\n",
       "<polygon fill=\"#000000\" points=\"223.5001,-1135.784 220,-1125.784 216.5001,-1135.784 223.5001,-1135.784\" stroke=\"#000000\"/>\n",
       "</g>\n",
       "<!-- 139994984372824 -->\n",
       "<g class=\"node\" id=\"node6\">\n",
       "<title>139994984372824</title>\n",
       "<polygon fill=\"none\" points=\"30,-996.5 30,-1042.5 410,-1042.5 410,-996.5 30,-996.5\" stroke=\"#000000\"/>\n",
       "<text fill=\"#000000\" font-family=\"Times,serif\" font-size=\"14.00\" text-anchor=\"middle\" x=\"133.5\" y=\"-1015.8\">max_pooling2d_2: MaxPooling2D</text>\n",
       "<polyline fill=\"none\" points=\"237,-996.5 237,-1042.5 \" stroke=\"#000000\"/>\n",
       "<text fill=\"#000000\" font-family=\"Times,serif\" font-size=\"14.00\" text-anchor=\"middle\" x=\"264.5\" y=\"-1027.3\">input:</text>\n",
       "<polyline fill=\"none\" points=\"237,-1019.5 292,-1019.5 \" stroke=\"#000000\"/>\n",
       "<text fill=\"#000000\" font-family=\"Times,serif\" font-size=\"14.00\" text-anchor=\"middle\" x=\"264.5\" y=\"-1004.3\">output:</text>\n",
       "<polyline fill=\"none\" points=\"292,-996.5 292,-1042.5 \" stroke=\"#000000\"/>\n",
       "<text fill=\"#000000\" font-family=\"Times,serif\" font-size=\"14.00\" text-anchor=\"middle\" x=\"351\" y=\"-1027.3\">(None, 64, 64, 32)</text>\n",
       "<polyline fill=\"none\" points=\"292,-1019.5 410,-1019.5 \" stroke=\"#000000\"/>\n",
       "<text fill=\"#000000\" font-family=\"Times,serif\" font-size=\"14.00\" text-anchor=\"middle\" x=\"351\" y=\"-1004.3\">(None, 32, 32, 32)</text>\n",
       "</g>\n",
       "<!-- 139996130408824&#45;&gt;139994984372824 -->\n",
       "<g class=\"edge\" id=\"edge6\">\n",
       "<title>139996130408824-&gt;139994984372824</title>\n",
       "<path d=\"M220,-1079.3799C220,-1071.1745 220,-1061.7679 220,-1052.8786\" fill=\"none\" stroke=\"#000000\"/>\n",
       "<polygon fill=\"#000000\" points=\"223.5001,-1052.784 220,-1042.784 216.5001,-1052.784 223.5001,-1052.784\" stroke=\"#000000\"/>\n",
       "</g>\n",
       "<!-- 139994982773872 -->\n",
       "<g class=\"node\" id=\"node7\">\n",
       "<title>139994982773872</title>\n",
       "<polygon fill=\"none\" points=\"3.5,-913.5 3.5,-959.5 436.5,-959.5 436.5,-913.5 3.5,-913.5\" stroke=\"#000000\"/>\n",
       "<text fill=\"#000000\" font-family=\"Times,serif\" font-size=\"14.00\" text-anchor=\"middle\" x=\"133.5\" y=\"-932.8\">batch_normalization_3: BatchNormalization</text>\n",
       "<polyline fill=\"none\" points=\"263.5,-913.5 263.5,-959.5 \" stroke=\"#000000\"/>\n",
       "<text fill=\"#000000\" font-family=\"Times,serif\" font-size=\"14.00\" text-anchor=\"middle\" x=\"291\" y=\"-944.3\">input:</text>\n",
       "<polyline fill=\"none\" points=\"263.5,-936.5 318.5,-936.5 \" stroke=\"#000000\"/>\n",
       "<text fill=\"#000000\" font-family=\"Times,serif\" font-size=\"14.00\" text-anchor=\"middle\" x=\"291\" y=\"-921.3\">output:</text>\n",
       "<polyline fill=\"none\" points=\"318.5,-913.5 318.5,-959.5 \" stroke=\"#000000\"/>\n",
       "<text fill=\"#000000\" font-family=\"Times,serif\" font-size=\"14.00\" text-anchor=\"middle\" x=\"377.5\" y=\"-944.3\">(None, 32, 32, 32)</text>\n",
       "<polyline fill=\"none\" points=\"318.5,-936.5 436.5,-936.5 \" stroke=\"#000000\"/>\n",
       "<text fill=\"#000000\" font-family=\"Times,serif\" font-size=\"14.00\" text-anchor=\"middle\" x=\"377.5\" y=\"-921.3\">(None, 32, 32, 32)</text>\n",
       "</g>\n",
       "<!-- 139994984372824&#45;&gt;139994982773872 -->\n",
       "<g class=\"edge\" id=\"edge7\">\n",
       "<title>139994984372824-&gt;139994982773872</title>\n",
       "<path d=\"M220,-996.3799C220,-988.1745 220,-978.7679 220,-969.8786\" fill=\"none\" stroke=\"#000000\"/>\n",
       "<polygon fill=\"#000000\" points=\"223.5001,-969.784 220,-959.784 216.5001,-969.784 223.5001,-969.784\" stroke=\"#000000\"/>\n",
       "</g>\n",
       "<!-- 139994981418544 -->\n",
       "<g class=\"node\" id=\"node8\">\n",
       "<title>139994981418544</title>\n",
       "<polygon fill=\"none\" points=\"72,-830.5 72,-876.5 368,-876.5 368,-830.5 72,-830.5\" stroke=\"#000000\"/>\n",
       "<text fill=\"#000000\" font-family=\"Times,serif\" font-size=\"14.00\" text-anchor=\"middle\" x=\"133.5\" y=\"-849.8\">conv2d_3: Conv2D</text>\n",
       "<polyline fill=\"none\" points=\"195,-830.5 195,-876.5 \" stroke=\"#000000\"/>\n",
       "<text fill=\"#000000\" font-family=\"Times,serif\" font-size=\"14.00\" text-anchor=\"middle\" x=\"222.5\" y=\"-861.3\">input:</text>\n",
       "<polyline fill=\"none\" points=\"195,-853.5 250,-853.5 \" stroke=\"#000000\"/>\n",
       "<text fill=\"#000000\" font-family=\"Times,serif\" font-size=\"14.00\" text-anchor=\"middle\" x=\"222.5\" y=\"-838.3\">output:</text>\n",
       "<polyline fill=\"none\" points=\"250,-830.5 250,-876.5 \" stroke=\"#000000\"/>\n",
       "<text fill=\"#000000\" font-family=\"Times,serif\" font-size=\"14.00\" text-anchor=\"middle\" x=\"309\" y=\"-861.3\">(None, 32, 32, 32)</text>\n",
       "<polyline fill=\"none\" points=\"250,-853.5 368,-853.5 \" stroke=\"#000000\"/>\n",
       "<text fill=\"#000000\" font-family=\"Times,serif\" font-size=\"14.00\" text-anchor=\"middle\" x=\"309\" y=\"-838.3\">(None, 28, 28, 32)</text>\n",
       "</g>\n",
       "<!-- 139994982773872&#45;&gt;139994981418544 -->\n",
       "<g class=\"edge\" id=\"edge8\">\n",
       "<title>139994982773872-&gt;139994981418544</title>\n",
       "<path d=\"M220,-913.3799C220,-905.1745 220,-895.7679 220,-886.8786\" fill=\"none\" stroke=\"#000000\"/>\n",
       "<polygon fill=\"#000000\" points=\"223.5001,-886.784 220,-876.784 216.5001,-886.784 223.5001,-886.784\" stroke=\"#000000\"/>\n",
       "</g>\n",
       "<!-- 139994984230864 -->\n",
       "<g class=\"node\" id=\"node9\">\n",
       "<title>139994984230864</title>\n",
       "<polygon fill=\"none\" points=\"30,-747.5 30,-793.5 410,-793.5 410,-747.5 30,-747.5\" stroke=\"#000000\"/>\n",
       "<text fill=\"#000000\" font-family=\"Times,serif\" font-size=\"14.00\" text-anchor=\"middle\" x=\"133.5\" y=\"-766.8\">max_pooling2d_3: MaxPooling2D</text>\n",
       "<polyline fill=\"none\" points=\"237,-747.5 237,-793.5 \" stroke=\"#000000\"/>\n",
       "<text fill=\"#000000\" font-family=\"Times,serif\" font-size=\"14.00\" text-anchor=\"middle\" x=\"264.5\" y=\"-778.3\">input:</text>\n",
       "<polyline fill=\"none\" points=\"237,-770.5 292,-770.5 \" stroke=\"#000000\"/>\n",
       "<text fill=\"#000000\" font-family=\"Times,serif\" font-size=\"14.00\" text-anchor=\"middle\" x=\"264.5\" y=\"-755.3\">output:</text>\n",
       "<polyline fill=\"none\" points=\"292,-747.5 292,-793.5 \" stroke=\"#000000\"/>\n",
       "<text fill=\"#000000\" font-family=\"Times,serif\" font-size=\"14.00\" text-anchor=\"middle\" x=\"351\" y=\"-778.3\">(None, 28, 28, 32)</text>\n",
       "<polyline fill=\"none\" points=\"292,-770.5 410,-770.5 \" stroke=\"#000000\"/>\n",
       "<text fill=\"#000000\" font-family=\"Times,serif\" font-size=\"14.00\" text-anchor=\"middle\" x=\"351\" y=\"-755.3\">(None, 14, 14, 32)</text>\n",
       "</g>\n",
       "<!-- 139994981418544&#45;&gt;139994984230864 -->\n",
       "<g class=\"edge\" id=\"edge9\">\n",
       "<title>139994981418544-&gt;139994984230864</title>\n",
       "<path d=\"M220,-830.3799C220,-822.1745 220,-812.7679 220,-803.8786\" fill=\"none\" stroke=\"#000000\"/>\n",
       "<polygon fill=\"#000000\" points=\"223.5001,-803.784 220,-793.784 216.5001,-803.784 223.5001,-803.784\" stroke=\"#000000\"/>\n",
       "</g>\n",
       "<!-- 139994985172888 -->\n",
       "<g class=\"node\" id=\"node10\">\n",
       "<title>139994985172888</title>\n",
       "<polygon fill=\"none\" points=\"3.5,-664.5 3.5,-710.5 436.5,-710.5 436.5,-664.5 3.5,-664.5\" stroke=\"#000000\"/>\n",
       "<text fill=\"#000000\" font-family=\"Times,serif\" font-size=\"14.00\" text-anchor=\"middle\" x=\"133.5\" y=\"-683.8\">batch_normalization_4: BatchNormalization</text>\n",
       "<polyline fill=\"none\" points=\"263.5,-664.5 263.5,-710.5 \" stroke=\"#000000\"/>\n",
       "<text fill=\"#000000\" font-family=\"Times,serif\" font-size=\"14.00\" text-anchor=\"middle\" x=\"291\" y=\"-695.3\">input:</text>\n",
       "<polyline fill=\"none\" points=\"263.5,-687.5 318.5,-687.5 \" stroke=\"#000000\"/>\n",
       "<text fill=\"#000000\" font-family=\"Times,serif\" font-size=\"14.00\" text-anchor=\"middle\" x=\"291\" y=\"-672.3\">output:</text>\n",
       "<polyline fill=\"none\" points=\"318.5,-664.5 318.5,-710.5 \" stroke=\"#000000\"/>\n",
       "<text fill=\"#000000\" font-family=\"Times,serif\" font-size=\"14.00\" text-anchor=\"middle\" x=\"377.5\" y=\"-695.3\">(None, 14, 14, 32)</text>\n",
       "<polyline fill=\"none\" points=\"318.5,-687.5 436.5,-687.5 \" stroke=\"#000000\"/>\n",
       "<text fill=\"#000000\" font-family=\"Times,serif\" font-size=\"14.00\" text-anchor=\"middle\" x=\"377.5\" y=\"-672.3\">(None, 14, 14, 32)</text>\n",
       "</g>\n",
       "<!-- 139994984230864&#45;&gt;139994985172888 -->\n",
       "<g class=\"edge\" id=\"edge10\">\n",
       "<title>139994984230864-&gt;139994985172888</title>\n",
       "<path d=\"M220,-747.3799C220,-739.1745 220,-729.7679 220,-720.8786\" fill=\"none\" stroke=\"#000000\"/>\n",
       "<polygon fill=\"#000000\" points=\"223.5001,-720.784 220,-710.784 216.5001,-720.784 223.5001,-720.784\" stroke=\"#000000\"/>\n",
       "</g>\n",
       "<!-- 139994983473504 -->\n",
       "<g class=\"node\" id=\"node11\">\n",
       "<title>139994983473504</title>\n",
       "<polygon fill=\"none\" points=\"72,-581.5 72,-627.5 368,-627.5 368,-581.5 72,-581.5\" stroke=\"#000000\"/>\n",
       "<text fill=\"#000000\" font-family=\"Times,serif\" font-size=\"14.00\" text-anchor=\"middle\" x=\"133.5\" y=\"-600.8\">conv2d_4: Conv2D</text>\n",
       "<polyline fill=\"none\" points=\"195,-581.5 195,-627.5 \" stroke=\"#000000\"/>\n",
       "<text fill=\"#000000\" font-family=\"Times,serif\" font-size=\"14.00\" text-anchor=\"middle\" x=\"222.5\" y=\"-612.3\">input:</text>\n",
       "<polyline fill=\"none\" points=\"195,-604.5 250,-604.5 \" stroke=\"#000000\"/>\n",
       "<text fill=\"#000000\" font-family=\"Times,serif\" font-size=\"14.00\" text-anchor=\"middle\" x=\"222.5\" y=\"-589.3\">output:</text>\n",
       "<polyline fill=\"none\" points=\"250,-581.5 250,-627.5 \" stroke=\"#000000\"/>\n",
       "<text fill=\"#000000\" font-family=\"Times,serif\" font-size=\"14.00\" text-anchor=\"middle\" x=\"309\" y=\"-612.3\">(None, 14, 14, 32)</text>\n",
       "<polyline fill=\"none\" points=\"250,-604.5 368,-604.5 \" stroke=\"#000000\"/>\n",
       "<text fill=\"#000000\" font-family=\"Times,serif\" font-size=\"14.00\" text-anchor=\"middle\" x=\"309\" y=\"-589.3\">(None, 12, 12, 32)</text>\n",
       "</g>\n",
       "<!-- 139994985172888&#45;&gt;139994983473504 -->\n",
       "<g class=\"edge\" id=\"edge11\">\n",
       "<title>139994985172888-&gt;139994983473504</title>\n",
       "<path d=\"M220,-664.3799C220,-656.1745 220,-646.7679 220,-637.8786\" fill=\"none\" stroke=\"#000000\"/>\n",
       "<polygon fill=\"#000000\" points=\"223.5001,-637.784 220,-627.784 216.5001,-637.784 223.5001,-637.784\" stroke=\"#000000\"/>\n",
       "</g>\n",
       "<!-- 139994985225968 -->\n",
       "<g class=\"node\" id=\"node12\">\n",
       "<title>139994985225968</title>\n",
       "<polygon fill=\"none\" points=\"30,-498.5 30,-544.5 410,-544.5 410,-498.5 30,-498.5\" stroke=\"#000000\"/>\n",
       "<text fill=\"#000000\" font-family=\"Times,serif\" font-size=\"14.00\" text-anchor=\"middle\" x=\"133.5\" y=\"-517.8\">max_pooling2d_4: MaxPooling2D</text>\n",
       "<polyline fill=\"none\" points=\"237,-498.5 237,-544.5 \" stroke=\"#000000\"/>\n",
       "<text fill=\"#000000\" font-family=\"Times,serif\" font-size=\"14.00\" text-anchor=\"middle\" x=\"264.5\" y=\"-529.3\">input:</text>\n",
       "<polyline fill=\"none\" points=\"237,-521.5 292,-521.5 \" stroke=\"#000000\"/>\n",
       "<text fill=\"#000000\" font-family=\"Times,serif\" font-size=\"14.00\" text-anchor=\"middle\" x=\"264.5\" y=\"-506.3\">output:</text>\n",
       "<polyline fill=\"none\" points=\"292,-498.5 292,-544.5 \" stroke=\"#000000\"/>\n",
       "<text fill=\"#000000\" font-family=\"Times,serif\" font-size=\"14.00\" text-anchor=\"middle\" x=\"351\" y=\"-529.3\">(None, 12, 12, 32)</text>\n",
       "<polyline fill=\"none\" points=\"292,-521.5 410,-521.5 \" stroke=\"#000000\"/>\n",
       "<text fill=\"#000000\" font-family=\"Times,serif\" font-size=\"14.00\" text-anchor=\"middle\" x=\"351\" y=\"-506.3\">(None, 6, 6, 32)</text>\n",
       "</g>\n",
       "<!-- 139994983473504&#45;&gt;139994985225968 -->\n",
       "<g class=\"edge\" id=\"edge12\">\n",
       "<title>139994983473504-&gt;139994985225968</title>\n",
       "<path d=\"M220,-581.3799C220,-573.1745 220,-563.7679 220,-554.8786\" fill=\"none\" stroke=\"#000000\"/>\n",
       "<polygon fill=\"#000000\" points=\"223.5001,-554.784 220,-544.784 216.5001,-554.784 223.5001,-554.784\" stroke=\"#000000\"/>\n",
       "</g>\n",
       "<!-- 139994594481656 -->\n",
       "<g class=\"node\" id=\"node13\">\n",
       "<title>139994594481656</title>\n",
       "<polygon fill=\"none\" points=\"10.5,-415.5 10.5,-461.5 429.5,-461.5 429.5,-415.5 10.5,-415.5\" stroke=\"#000000\"/>\n",
       "<text fill=\"#000000\" font-family=\"Times,serif\" font-size=\"14.00\" text-anchor=\"middle\" x=\"140.5\" y=\"-434.8\">batch_normalization_5: BatchNormalization</text>\n",
       "<polyline fill=\"none\" points=\"270.5,-415.5 270.5,-461.5 \" stroke=\"#000000\"/>\n",
       "<text fill=\"#000000\" font-family=\"Times,serif\" font-size=\"14.00\" text-anchor=\"middle\" x=\"298\" y=\"-446.3\">input:</text>\n",
       "<polyline fill=\"none\" points=\"270.5,-438.5 325.5,-438.5 \" stroke=\"#000000\"/>\n",
       "<text fill=\"#000000\" font-family=\"Times,serif\" font-size=\"14.00\" text-anchor=\"middle\" x=\"298\" y=\"-423.3\">output:</text>\n",
       "<polyline fill=\"none\" points=\"325.5,-415.5 325.5,-461.5 \" stroke=\"#000000\"/>\n",
       "<text fill=\"#000000\" font-family=\"Times,serif\" font-size=\"14.00\" text-anchor=\"middle\" x=\"377.5\" y=\"-446.3\">(None, 6, 6, 32)</text>\n",
       "<polyline fill=\"none\" points=\"325.5,-438.5 429.5,-438.5 \" stroke=\"#000000\"/>\n",
       "<text fill=\"#000000\" font-family=\"Times,serif\" font-size=\"14.00\" text-anchor=\"middle\" x=\"377.5\" y=\"-423.3\">(None, 6, 6, 32)</text>\n",
       "</g>\n",
       "<!-- 139994985225968&#45;&gt;139994594481656 -->\n",
       "<g class=\"edge\" id=\"edge13\">\n",
       "<title>139994985225968-&gt;139994594481656</title>\n",
       "<path d=\"M220,-498.3799C220,-490.1745 220,-480.7679 220,-471.8786\" fill=\"none\" stroke=\"#000000\"/>\n",
       "<polygon fill=\"#000000\" points=\"223.5001,-471.784 220,-461.784 216.5001,-471.784 223.5001,-471.784\" stroke=\"#000000\"/>\n",
       "</g>\n",
       "<!-- 139994983798880 -->\n",
       "<g class=\"node\" id=\"node14\">\n",
       "<title>139994983798880</title>\n",
       "<polygon fill=\"none\" points=\"85.5,-332.5 85.5,-378.5 354.5,-378.5 354.5,-332.5 85.5,-332.5\" stroke=\"#000000\"/>\n",
       "<text fill=\"#000000\" font-family=\"Times,serif\" font-size=\"14.00\" text-anchor=\"middle\" x=\"140.5\" y=\"-351.8\">flatten_1: Flatten</text>\n",
       "<polyline fill=\"none\" points=\"195.5,-332.5 195.5,-378.5 \" stroke=\"#000000\"/>\n",
       "<text fill=\"#000000\" font-family=\"Times,serif\" font-size=\"14.00\" text-anchor=\"middle\" x=\"223\" y=\"-363.3\">input:</text>\n",
       "<polyline fill=\"none\" points=\"195.5,-355.5 250.5,-355.5 \" stroke=\"#000000\"/>\n",
       "<text fill=\"#000000\" font-family=\"Times,serif\" font-size=\"14.00\" text-anchor=\"middle\" x=\"223\" y=\"-340.3\">output:</text>\n",
       "<polyline fill=\"none\" points=\"250.5,-332.5 250.5,-378.5 \" stroke=\"#000000\"/>\n",
       "<text fill=\"#000000\" font-family=\"Times,serif\" font-size=\"14.00\" text-anchor=\"middle\" x=\"302.5\" y=\"-363.3\">(None, 6, 6, 32)</text>\n",
       "<polyline fill=\"none\" points=\"250.5,-355.5 354.5,-355.5 \" stroke=\"#000000\"/>\n",
       "<text fill=\"#000000\" font-family=\"Times,serif\" font-size=\"14.00\" text-anchor=\"middle\" x=\"302.5\" y=\"-340.3\">(None, 1152)</text>\n",
       "</g>\n",
       "<!-- 139994594481656&#45;&gt;139994983798880 -->\n",
       "<g class=\"edge\" id=\"edge14\">\n",
       "<title>139994594481656-&gt;139994983798880</title>\n",
       "<path d=\"M220,-415.3799C220,-407.1745 220,-397.7679 220,-388.8786\" fill=\"none\" stroke=\"#000000\"/>\n",
       "<polygon fill=\"#000000\" points=\"223.5001,-388.784 220,-378.784 216.5001,-388.784 223.5001,-388.784\" stroke=\"#000000\"/>\n",
       "</g>\n",
       "<!-- 139994983799888 -->\n",
       "<g class=\"node\" id=\"node15\">\n",
       "<title>139994983799888</title>\n",
       "<polygon fill=\"none\" points=\"85.5,-249.5 85.5,-295.5 354.5,-295.5 354.5,-249.5 85.5,-249.5\" stroke=\"#000000\"/>\n",
       "<text fill=\"#000000\" font-family=\"Times,serif\" font-size=\"14.00\" text-anchor=\"middle\" x=\"148\" y=\"-268.8\">dropout_1: Dropout</text>\n",
       "<polyline fill=\"none\" points=\"210.5,-249.5 210.5,-295.5 \" stroke=\"#000000\"/>\n",
       "<text fill=\"#000000\" font-family=\"Times,serif\" font-size=\"14.00\" text-anchor=\"middle\" x=\"238\" y=\"-280.3\">input:</text>\n",
       "<polyline fill=\"none\" points=\"210.5,-272.5 265.5,-272.5 \" stroke=\"#000000\"/>\n",
       "<text fill=\"#000000\" font-family=\"Times,serif\" font-size=\"14.00\" text-anchor=\"middle\" x=\"238\" y=\"-257.3\">output:</text>\n",
       "<polyline fill=\"none\" points=\"265.5,-249.5 265.5,-295.5 \" stroke=\"#000000\"/>\n",
       "<text fill=\"#000000\" font-family=\"Times,serif\" font-size=\"14.00\" text-anchor=\"middle\" x=\"310\" y=\"-280.3\">(None, 1152)</text>\n",
       "<polyline fill=\"none\" points=\"265.5,-272.5 354.5,-272.5 \" stroke=\"#000000\"/>\n",
       "<text fill=\"#000000\" font-family=\"Times,serif\" font-size=\"14.00\" text-anchor=\"middle\" x=\"310\" y=\"-257.3\">(None, 1152)</text>\n",
       "</g>\n",
       "<!-- 139994983798880&#45;&gt;139994983799888 -->\n",
       "<g class=\"edge\" id=\"edge15\">\n",
       "<title>139994983798880-&gt;139994983799888</title>\n",
       "<path d=\"M220,-332.3799C220,-324.1745 220,-314.7679 220,-305.8786\" fill=\"none\" stroke=\"#000000\"/>\n",
       "<polygon fill=\"#000000\" points=\"223.5001,-305.784 220,-295.784 216.5001,-305.784 223.5001,-305.784\" stroke=\"#000000\"/>\n",
       "</g>\n",
       "<!-- 139994980138400 -->\n",
       "<g class=\"node\" id=\"node16\">\n",
       "<title>139994980138400</title>\n",
       "<polygon fill=\"none\" points=\"97,-166.5 97,-212.5 343,-212.5 343,-166.5 97,-166.5\" stroke=\"#000000\"/>\n",
       "<text fill=\"#000000\" font-family=\"Times,serif\" font-size=\"14.00\" text-anchor=\"middle\" x=\"148\" y=\"-185.8\">dense_1: Dense</text>\n",
       "<polyline fill=\"none\" points=\"199,-166.5 199,-212.5 \" stroke=\"#000000\"/>\n",
       "<text fill=\"#000000\" font-family=\"Times,serif\" font-size=\"14.00\" text-anchor=\"middle\" x=\"226.5\" y=\"-197.3\">input:</text>\n",
       "<polyline fill=\"none\" points=\"199,-189.5 254,-189.5 \" stroke=\"#000000\"/>\n",
       "<text fill=\"#000000\" font-family=\"Times,serif\" font-size=\"14.00\" text-anchor=\"middle\" x=\"226.5\" y=\"-174.3\">output:</text>\n",
       "<polyline fill=\"none\" points=\"254,-166.5 254,-212.5 \" stroke=\"#000000\"/>\n",
       "<text fill=\"#000000\" font-family=\"Times,serif\" font-size=\"14.00\" text-anchor=\"middle\" x=\"298.5\" y=\"-197.3\">(None, 1152)</text>\n",
       "<polyline fill=\"none\" points=\"254,-189.5 343,-189.5 \" stroke=\"#000000\"/>\n",
       "<text fill=\"#000000\" font-family=\"Times,serif\" font-size=\"14.00\" text-anchor=\"middle\" x=\"298.5\" y=\"-174.3\">(None, 256)</text>\n",
       "</g>\n",
       "<!-- 139994983799888&#45;&gt;139994980138400 -->\n",
       "<g class=\"edge\" id=\"edge16\">\n",
       "<title>139994983799888-&gt;139994980138400</title>\n",
       "<path d=\"M220,-249.3799C220,-241.1745 220,-231.7679 220,-222.8786\" fill=\"none\" stroke=\"#000000\"/>\n",
       "<polygon fill=\"#000000\" points=\"223.5001,-222.784 220,-212.784 216.5001,-222.784 223.5001,-222.784\" stroke=\"#000000\"/>\n",
       "</g>\n",
       "<!-- 139994979961656 -->\n",
       "<g class=\"node\" id=\"node17\">\n",
       "<title>139994979961656</title>\n",
       "<polygon fill=\"none\" points=\"21,-83.5 21,-129.5 419,-129.5 419,-83.5 21,-83.5\" stroke=\"#000000\"/>\n",
       "<text fill=\"#000000\" font-family=\"Times,serif\" font-size=\"14.00\" text-anchor=\"middle\" x=\"151\" y=\"-102.8\">batch_normalization_6: BatchNormalization</text>\n",
       "<polyline fill=\"none\" points=\"281,-83.5 281,-129.5 \" stroke=\"#000000\"/>\n",
       "<text fill=\"#000000\" font-family=\"Times,serif\" font-size=\"14.00\" text-anchor=\"middle\" x=\"308.5\" y=\"-114.3\">input:</text>\n",
       "<polyline fill=\"none\" points=\"281,-106.5 336,-106.5 \" stroke=\"#000000\"/>\n",
       "<text fill=\"#000000\" font-family=\"Times,serif\" font-size=\"14.00\" text-anchor=\"middle\" x=\"308.5\" y=\"-91.3\">output:</text>\n",
       "<polyline fill=\"none\" points=\"336,-83.5 336,-129.5 \" stroke=\"#000000\"/>\n",
       "<text fill=\"#000000\" font-family=\"Times,serif\" font-size=\"14.00\" text-anchor=\"middle\" x=\"377.5\" y=\"-114.3\">(None, 256)</text>\n",
       "<polyline fill=\"none\" points=\"336,-106.5 419,-106.5 \" stroke=\"#000000\"/>\n",
       "<text fill=\"#000000\" font-family=\"Times,serif\" font-size=\"14.00\" text-anchor=\"middle\" x=\"377.5\" y=\"-91.3\">(None, 256)</text>\n",
       "</g>\n",
       "<!-- 139994980138400&#45;&gt;139994979961656 -->\n",
       "<g class=\"edge\" id=\"edge17\">\n",
       "<title>139994980138400-&gt;139994979961656</title>\n",
       "<path d=\"M220,-166.3799C220,-158.1745 220,-148.7679 220,-139.8786\" fill=\"none\" stroke=\"#000000\"/>\n",
       "<polygon fill=\"#000000\" points=\"223.5001,-139.784 220,-129.784 216.5001,-139.784 223.5001,-139.784\" stroke=\"#000000\"/>\n",
       "</g>\n",
       "<!-- 139994981067352 -->\n",
       "<g class=\"node\" id=\"node18\">\n",
       "<title>139994981067352</title>\n",
       "<polygon fill=\"none\" points=\"100,-.5 100,-46.5 340,-46.5 340,-.5 100,-.5\" stroke=\"#000000\"/>\n",
       "<text fill=\"#000000\" font-family=\"Times,serif\" font-size=\"14.00\" text-anchor=\"middle\" x=\"151\" y=\"-19.8\">dense_2: Dense</text>\n",
       "<polyline fill=\"none\" points=\"202,-.5 202,-46.5 \" stroke=\"#000000\"/>\n",
       "<text fill=\"#000000\" font-family=\"Times,serif\" font-size=\"14.00\" text-anchor=\"middle\" x=\"229.5\" y=\"-31.3\">input:</text>\n",
       "<polyline fill=\"none\" points=\"202,-23.5 257,-23.5 \" stroke=\"#000000\"/>\n",
       "<text fill=\"#000000\" font-family=\"Times,serif\" font-size=\"14.00\" text-anchor=\"middle\" x=\"229.5\" y=\"-8.3\">output:</text>\n",
       "<polyline fill=\"none\" points=\"257,-.5 257,-46.5 \" stroke=\"#000000\"/>\n",
       "<text fill=\"#000000\" font-family=\"Times,serif\" font-size=\"14.00\" text-anchor=\"middle\" x=\"298.5\" y=\"-31.3\">(None, 256)</text>\n",
       "<polyline fill=\"none\" points=\"257,-23.5 340,-23.5 \" stroke=\"#000000\"/>\n",
       "<text fill=\"#000000\" font-family=\"Times,serif\" font-size=\"14.00\" text-anchor=\"middle\" x=\"298.5\" y=\"-8.3\">(None, 2)</text>\n",
       "</g>\n",
       "<!-- 139994979961656&#45;&gt;139994981067352 -->\n",
       "<g class=\"edge\" id=\"edge18\">\n",
       "<title>139994979961656-&gt;139994981067352</title>\n",
       "<path d=\"M220,-83.3799C220,-75.1745 220,-65.7679 220,-56.8786\" fill=\"none\" stroke=\"#000000\"/>\n",
       "<polygon fill=\"#000000\" points=\"223.5001,-56.784 220,-46.784 216.5001,-56.784 223.5001,-56.784\" stroke=\"#000000\"/>\n",
       "</g>\n",
       "<!-- 139994981735672 -->\n",
       "<g class=\"node\" id=\"node19\">\n",
       "<title>139994981735672</title>\n",
       "<polygon fill=\"none\" points=\"161,-1494.5 161,-1530.5 279,-1530.5 279,-1494.5 161,-1494.5\" stroke=\"#000000\"/>\n",
       "<text fill=\"#000000\" font-family=\"Times,serif\" font-size=\"14.00\" text-anchor=\"middle\" x=\"220\" y=\"-1508.8\">139994981735672</text>\n",
       "</g>\n",
       "<!-- 139994981735672&#45;&gt;139995130453912 -->\n",
       "<g class=\"edge\" id=\"edge1\">\n",
       "<title>139994981735672-&gt;139995130453912</title>\n",
       "<path d=\"M220,-1494.4092C220,-1486.4308 220,-1476.795 220,-1467.606\" fill=\"none\" stroke=\"#000000\"/>\n",
       "<polygon fill=\"#000000\" points=\"223.5001,-1467.5333 220,-1457.5333 216.5001,-1467.5334 223.5001,-1467.5333\" stroke=\"#000000\"/>\n",
       "</g>\n",
       "</g>\n",
       "</svg>"
      ],
      "text/plain": [
       "<IPython.core.display.SVG object>"
      ]
     },
     "execution_count": 40,
     "metadata": {},
     "output_type": "execute_result"
    }
   ],
   "source": [
    "# graphviz\n",
    "from IPython.display import SVG\n",
    "from keras.utils.vis_utils import model_to_dot\n",
    "SVG(model_to_dot(model, show_shapes=True).create(prog='dot', format='svg'))"
   ]
  },
  {
   "cell_type": "markdown",
   "metadata": {},
   "source": [
    "Como la red tiene dos neuronas de salida, el target tendrá que tener dos componentes. \n",
    "\n",
    "**Clase 0:** las componentes son [1, 0]. **Clase 1:** las componentes son [0, 1]:"
   ]
  },
  {
   "cell_type": "code",
   "execution_count": 41,
   "metadata": {},
   "outputs": [],
   "source": [
    "y_train = np.asarray(y_train)\n",
    "y_test = np.asarray(y_test)"
   ]
  },
  {
   "cell_type": "code",
   "execution_count": 42,
   "metadata": {},
   "outputs": [
    {
     "data": {
      "text/plain": [
       "((760, 2), (190, 2))"
      ]
     },
     "execution_count": 42,
     "metadata": {},
     "output_type": "execute_result"
    }
   ],
   "source": [
    "y_tr2 = np.hstack((1-y_train.reshape(-1,1), y_train.reshape(-1,1)))\n",
    "y_te2 = np.hstack((1-y_test.reshape(-1,1), y_test.reshape(-1,1)))\n",
    "y_tr2.shape, y_te2.shape"
   ]
  },
  {
   "cell_type": "code",
   "execution_count": 43,
   "metadata": {},
   "outputs": [],
   "source": [
    "from sklearn.model_selection import train_test_split\n",
    "X_training, X_val, y_training, y_val = train_test_split(imgs_tr_resized2, y_tr2,\n",
    "                                                        test_size=0.3, random_state=7)"
   ]
  },
  {
   "cell_type": "code",
   "execution_count": 44,
   "metadata": {},
   "outputs": [
    {
     "name": "stdout",
     "output_type": "stream",
     "text": [
      "(532, 2)\n",
      "(228, 2)\n"
     ]
    }
   ],
   "source": [
    "print(y_training.shape)\n",
    "print(y_val.shape)"
   ]
  },
  {
   "cell_type": "code",
   "execution_count": 45,
   "metadata": {},
   "outputs": [],
   "source": [
    "from IPython.display import clear_output"
   ]
  },
  {
   "cell_type": "code",
   "execution_count": 46,
   "metadata": {},
   "outputs": [],
   "source": [
    "acum_tr_acc   = []\n",
    "acum_val_acc  = []\n",
    "acum_tr_loss  = []\n",
    "acum_val_loss = []\n",
    "best_val_acc = -1e50\n",
    "best_epoch = 0\n",
    "epoca = 0\n",
    "\n",
    "epochs = 500"
   ]
  },
  {
   "cell_type": "code",
   "execution_count": 47,
   "metadata": {},
   "outputs": [],
   "source": [
    "batch_size = 32\n",
    "\n",
    "train_generator = train_datagen.flow(X_training, y=y_training, batch_size=batch_size)"
   ]
  },
  {
   "cell_type": "code",
   "execution_count": 48,
   "metadata": {
    "scrolled": true
   },
   "outputs": [
    {
     "data": {
      "image/png": "[encoded data removed]",
      "text/plain": [
       "<Figure size 720x288 with 2 Axes>"
      ]
     },
     "metadata": {
      "needs_background": "light"
     },
     "output_type": "display_data"
    }
   ],
   "source": [
    "LOAD_MODEL = False\n",
    "\n",
    "if not LOAD_MODEL:\n",
    "    filepath=\"saved_model/manuel_version102_kfold10_0.h5\"\n",
    "    \n",
    "    checkpoint = ModelCheckpoint(filepath, monitor='val_acc', verbose=1,\n",
    "                                 save_best_only=True,\n",
    "                                 mode='max') # graba sólo los que mejoran en validación\n",
    "    callbacks_list = [checkpoint]\n",
    "    \n",
    "    for i in range(epochs):\n",
    "        history = model.fit_generator(train_generator,\n",
    "                                      steps_per_epoch=int(np.ceil(len(X_training)/batch_size)),\n",
    "                                      epochs=1,\n",
    "                                      callbacks=callbacks_list,\n",
    "                                      verbose=1,\n",
    "                                      validation_data=(X_val, y_val))\n",
    "                \n",
    "        acum_tr_acc.append(history.history['acc'][-1])\n",
    "        acum_val_acc.append(history.history['val_acc'][-1])\n",
    "        acum_tr_loss.append(history.history['loss'][-1])\n",
    "        acum_val_loss.append(history.history['val_loss'][-1])\n",
    "        \n",
    "        if len(acum_tr_acc) > 1:\n",
    "            if acum_val_acc[-1] > best_val_acc:\n",
    "                best_epoch = epoca\n",
    "                best_val_acc = acum_val_acc[-1]\n",
    "            \n",
    "            clear_output()\n",
    "            grafica_entrenamiento(acum_tr_acc, acum_val_acc,\n",
    "                                  acum_tr_loss, acum_val_loss, best_epoch)\n",
    "        \n",
    "        epoca = epoca + 1\n",
    "            \n",
    "else:\n",
    "    filepath = \"saved_model/manuel_version102_kfold10_0.h5\""
   ]
  },
  {
   "cell_type": "markdown",
   "metadata": {},
   "source": [
    "# Resultados obtenidos por el modelo CNN"
   ]
  },
  {
   "cell_type": "code",
   "execution_count": 49,
   "metadata": {},
   "outputs": [
    {
     "name": "stderr",
     "output_type": "stream",
     "text": [
      "W1110 05:29:13.704347 139996858103616 nn_ops.py:4224] Large dropout rate: 0.7 (>0.5). In TensorFlow 2.x, dropout() uses dropout rate instead of keep_prob. Please ensure that this is intended.\n"
     ]
    }
   ],
   "source": [
    "model = load_model(filepath)"
   ]
  },
  {
   "cell_type": "code",
   "execution_count": 50,
   "metadata": {},
   "outputs": [
    {
     "name": "stdout",
     "output_type": "stream",
     "text": [
      "Train loss    : 0.39567545975061286\n",
      "Train accuracy: 0.9172932326345515\n",
      "Val loss    : 0.974384113361961\n",
      "Val accuracy: 0.7149122807017544\n",
      "Test loss     : 0.9082709952404625\n",
      "Test accuracy : 0.7105263195539776\n"
     ]
    }
   ],
   "source": [
    "score_tr = model.evaluate(X_training, y_training, verbose=0)\n",
    "print('Train loss    :', score_tr[0])\n",
    "print('Train accuracy:', score_tr[1])\n",
    "\n",
    "score_val = model.evaluate(X_val, y_val, verbose=0)\n",
    "print('Val loss    :', score_val[0])\n",
    "print('Val accuracy:', score_val[1])\n",
    "\n",
    "score_te = model.evaluate(imgs_te_resized2, y_te2, verbose=0)\n",
    "print('Test loss     :', score_te[0])\n",
    "print('Test accuracy :', score_te[1])"
   ]
  },
  {
   "cell_type": "code",
   "execution_count": 51,
   "metadata": {},
   "outputs": [],
   "source": [
    "def save_result(score_tr, score_val, score_te, version_name):\n",
    "    \n",
    "    keys = [\"Train loss\", \"Train accuracy\", \"Val loss\", \"Val accuracy\", \"Test loss\", \"Test accuracy\"]\n",
    "    values = [score_tr[0], score_tr[1], score_val[0], score_val[1], score_te[0], score_te[1]]\n",
    "    \n",
    "    result_dict = {}\n",
    "    for i in range(len(keys)):\n",
    "        result_dict[keys[i]] = values[i]\n",
    "        \n",
    "    f = open(\"saved_result/\"+version_name+\".txt\",\"w\")\n",
    "    f.write( str(result_dict) )\n",
    "    f.close()"
   ]
  },
  {
   "cell_type": "code",
   "execution_count": 52,
   "metadata": {},
   "outputs": [],
   "source": [
    "version_name=\"manuel_version102_kfold10_0\"\n",
    "save_result(score_tr, score_val, score_te, version_name)"
   ]
  },
  {
   "cell_type": "code",
   "execution_count": 53,
   "metadata": {},
   "outputs": [
    {
     "name": "stdout",
     "output_type": "stream",
     "text": [
      "\n",
      "              precision    recall  f1-score   support\n",
      "\n",
      "           0       0.70      0.86      0.77       109\n",
      "           1       0.73      0.51      0.60        81\n",
      "\n",
      "    accuracy                           0.71       190\n",
      "   macro avg       0.72      0.68      0.69       190\n",
      "weighted avg       0.71      0.71      0.70       190\n",
      "\n"
     ]
    },
    {
     "data": {
      "image/png": "[encoded data removed]",
      "text/plain": [
       "<Figure size 432x288 with 1 Axes>"
      ]
     },
     "metadata": {
      "needs_background": "light"
     },
     "output_type": "display_data"
    }
   ],
   "source": [
    "y_te_prob_pred = model.predict(imgs_te_resized2)\n",
    "y_te_pred = 1*(y_te_prob_pred[:,1]>0.5)\n",
    "\n",
    "report(y_test, y_te_pred, y_te_prob_pred[:,1])"
   ]
  },
  {
   "cell_type": "code",
   "execution_count": 54,
   "metadata": {},
   "outputs": [
    {
     "data": {
      "text/plain": [
       "array([[94, 15],\n",
       "       [40, 41]])"
      ]
     },
     "execution_count": 54,
     "metadata": {},
     "output_type": "execute_result"
    }
   ],
   "source": [
    "from sklearn.metrics import confusion_matrix\n",
    "\n",
    "confusion_matrix(y_test, y_te_pred)"
   ]
  },
  {
   "cell_type": "code",
   "execution_count": 56,
   "metadata": {},
   "outputs": [
    {
     "data": {
      "text/html": [
       "<div>\n",
       "<style scoped>\n",
       "    .dataframe tbody tr th:only-of-type {\n",
       "        vertical-align: middle;\n",
       "    }\n",
       "\n",
       "    .dataframe tbody tr th {\n",
       "        vertical-align: top;\n",
       "    }\n",
       "\n",
       "    .dataframe thead th {\n",
       "        text-align: right;\n",
       "    }\n",
       "</style>\n",
       "<table border=\"1\" class=\"dataframe\">\n",
       "  <thead>\n",
       "    <tr style=\"text-align: right;\">\n",
       "      <th></th>\n",
       "      <th>Probabilidad clase 1</th>\n",
       "      <th>Clase real</th>\n",
       "    </tr>\n",
       "  </thead>\n",
       "  <tbody>\n",
       "    <tr>\n",
       "      <td>0</td>\n",
       "      <td>0.999988</td>\n",
       "      <td>1</td>\n",
       "    </tr>\n",
       "    <tr>\n",
       "      <td>1</td>\n",
       "      <td>0.999986</td>\n",
       "      <td>1</td>\n",
       "    </tr>\n",
       "    <tr>\n",
       "      <td>2</td>\n",
       "      <td>0.999979</td>\n",
       "      <td>1</td>\n",
       "    </tr>\n",
       "    <tr>\n",
       "      <td>3</td>\n",
       "      <td>0.999966</td>\n",
       "      <td>1</td>\n",
       "    </tr>\n",
       "    <tr>\n",
       "      <td>4</td>\n",
       "      <td>0.999765</td>\n",
       "      <td>1</td>\n",
       "    </tr>\n",
       "  </tbody>\n",
       "</table>\n",
       "</div>"
      ],
      "text/plain": [
       "   Probabilidad clase 1  Clase real\n",
       "0              0.999988           1\n",
       "1              0.999986           1\n",
       "2              0.999979           1\n",
       "3              0.999966           1\n",
       "4              0.999765           1"
      ]
     },
     "execution_count": 56,
     "metadata": {},
     "output_type": "execute_result"
    }
   ],
   "source": [
    "df[:5]"
   ]
  },
  {
   "cell_type": "code",
   "execution_count": 57,
   "metadata": {},
   "outputs": [],
   "source": [
    "prob_0 = y_te_prob_pred[:,0]"
   ]
  },
  {
   "cell_type": "code",
   "execution_count": 58,
   "metadata": {},
   "outputs": [],
   "source": [
    "prob_1 = y_te_prob_pred[:,1]"
   ]
  },
  {
   "cell_type": "code",
   "execution_count": 59,
   "metadata": {},
   "outputs": [],
   "source": [
    "df = pd.DataFrame({\"Clase real\":y_test,\n",
    "                  \"Clase pred\": y_te_pred,\n",
    "                  \"Probabilidad Clase 0\": prob_0,\n",
    "                  \"Probabilidad Clase 1\": prob_1})"
   ]
  },
  {
   "cell_type": "code",
   "execution_count": 60,
   "metadata": {},
   "outputs": [
    {
     "data": {
      "text/html": [
       "<div>\n",
       "<style scoped>\n",
       "    .dataframe tbody tr th:only-of-type {\n",
       "        vertical-align: middle;\n",
       "    }\n",
       "\n",
       "    .dataframe tbody tr th {\n",
       "        vertical-align: top;\n",
       "    }\n",
       "\n",
       "    .dataframe thead th {\n",
       "        text-align: right;\n",
       "    }\n",
       "</style>\n",
       "<table border=\"1\" class=\"dataframe\">\n",
       "  <thead>\n",
       "    <tr style=\"text-align: right;\">\n",
       "      <th></th>\n",
       "      <th>Clase real</th>\n",
       "      <th>Clase pred</th>\n",
       "      <th>Probabilidad Clase 0</th>\n",
       "      <th>Probabilidad Clase 1</th>\n",
       "    </tr>\n",
       "  </thead>\n",
       "  <tbody>\n",
       "    <tr>\n",
       "      <td>0</td>\n",
       "      <td>0</td>\n",
       "      <td>0</td>\n",
       "      <td>0.952095</td>\n",
       "      <td>0.047905</td>\n",
       "    </tr>\n",
       "    <tr>\n",
       "      <td>1</td>\n",
       "      <td>0</td>\n",
       "      <td>0</td>\n",
       "      <td>0.984286</td>\n",
       "      <td>0.015714</td>\n",
       "    </tr>\n",
       "    <tr>\n",
       "      <td>2</td>\n",
       "      <td>0</td>\n",
       "      <td>0</td>\n",
       "      <td>0.508140</td>\n",
       "      <td>0.491860</td>\n",
       "    </tr>\n",
       "    <tr>\n",
       "      <td>3</td>\n",
       "      <td>0</td>\n",
       "      <td>0</td>\n",
       "      <td>0.933804</td>\n",
       "      <td>0.066196</td>\n",
       "    </tr>\n",
       "    <tr>\n",
       "      <td>4</td>\n",
       "      <td>0</td>\n",
       "      <td>0</td>\n",
       "      <td>0.996314</td>\n",
       "      <td>0.003686</td>\n",
       "    </tr>\n",
       "    <tr>\n",
       "      <td>...</td>\n",
       "      <td>...</td>\n",
       "      <td>...</td>\n",
       "      <td>...</td>\n",
       "      <td>...</td>\n",
       "    </tr>\n",
       "    <tr>\n",
       "      <td>185</td>\n",
       "      <td>1</td>\n",
       "      <td>1</td>\n",
       "      <td>0.088953</td>\n",
       "      <td>0.911047</td>\n",
       "    </tr>\n",
       "    <tr>\n",
       "      <td>186</td>\n",
       "      <td>1</td>\n",
       "      <td>1</td>\n",
       "      <td>0.120027</td>\n",
       "      <td>0.879973</td>\n",
       "    </tr>\n",
       "    <tr>\n",
       "      <td>187</td>\n",
       "      <td>1</td>\n",
       "      <td>0</td>\n",
       "      <td>0.994758</td>\n",
       "      <td>0.005242</td>\n",
       "    </tr>\n",
       "    <tr>\n",
       "      <td>188</td>\n",
       "      <td>1</td>\n",
       "      <td>1</td>\n",
       "      <td>0.182350</td>\n",
       "      <td>0.817650</td>\n",
       "    </tr>\n",
       "    <tr>\n",
       "      <td>189</td>\n",
       "      <td>1</td>\n",
       "      <td>0</td>\n",
       "      <td>0.900207</td>\n",
       "      <td>0.099793</td>\n",
       "    </tr>\n",
       "  </tbody>\n",
       "</table>\n",
       "<p>190 rows × 4 columns</p>\n",
       "</div>"
      ],
      "text/plain": [
       "     Clase real  Clase pred  Probabilidad Clase 0  Probabilidad Clase 1\n",
       "0             0           0              0.952095              0.047905\n",
       "1             0           0              0.984286              0.015714\n",
       "2             0           0              0.508140              0.491860\n",
       "3             0           0              0.933804              0.066196\n",
       "4             0           0              0.996314              0.003686\n",
       "..          ...         ...                   ...                   ...\n",
       "185           1           1              0.088953              0.911047\n",
       "186           1           1              0.120027              0.879973\n",
       "187           1           0              0.994758              0.005242\n",
       "188           1           1              0.182350              0.817650\n",
       "189           1           0              0.900207              0.099793\n",
       "\n",
       "[190 rows x 4 columns]"
      ]
     },
     "execution_count": 60,
     "metadata": {},
     "output_type": "execute_result"
    }
   ],
   "source": [
    "df"
   ]
  },
  {
   "cell_type": "code",
   "execution_count": 61,
   "metadata": {},
   "outputs": [],
   "source": [
    "df.to_csv ('./predicted_labels/manuel_version102_kfold10_0.csv', \n",
    "           index = None, \n",
    "           header=None)"
   ]
  }
 ],
 "metadata": {
  "kernelspec": {
   "display_name": "Python 3",
   "language": "python",
   "name": "python3"
  },
  "language_info": {
   "codemirror_mode": {
    "name": "ipython",
    "version": 3
   },
   "file_extension": ".py",
   "mimetype": "text/x-python",
   "name": "python",
   "nbconvert_exporter": "python",
   "pygments_lexer": "ipython3",
   "version": "3.7.3"
  }
 },
 "nbformat": 4,
 "nbformat_minor": 2
}
