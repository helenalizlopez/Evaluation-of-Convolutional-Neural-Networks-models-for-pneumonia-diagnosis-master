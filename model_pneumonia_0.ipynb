{
 "cells": [
  {
   "cell_type": "markdown",
   "metadata": {},
   "source": [
    "Copia versión 121 modificando el número de neuronas de las capas conv2d"
   ]
  },
  {
   "cell_type": "code",
   "execution_count": 1,
   "metadata": {},
   "outputs": [
    {
     "name": "stderr",
     "output_type": "stream",
     "text": [
      "Using TensorFlow backend.\n",
      "/home/isua/anaconda3/envs/CAPRI/lib/python3.7/site-packages/tensorflow/python/framework/dtypes.py:516: FutureWarning: Passing (type, 1) or '1type' as a synonym of type is deprecated; in a future version of numpy, it will be understood as (type, (1,)) / '(1,)type'.\n",
      "  _np_qint8 = np.dtype([(\"qint8\", np.int8, 1)])\n",
      "/home/isua/anaconda3/envs/CAPRI/lib/python3.7/site-packages/tensorflow/python/framework/dtypes.py:517: FutureWarning: Passing (type, 1) or '1type' as a synonym of type is deprecated; in a future version of numpy, it will be understood as (type, (1,)) / '(1,)type'.\n",
      "  _np_quint8 = np.dtype([(\"quint8\", np.uint8, 1)])\n",
      "/home/isua/anaconda3/envs/CAPRI/lib/python3.7/site-packages/tensorflow/python/framework/dtypes.py:518: FutureWarning: Passing (type, 1) or '1type' as a synonym of type is deprecated; in a future version of numpy, it will be understood as (type, (1,)) / '(1,)type'.\n",
      "  _np_qint16 = np.dtype([(\"qint16\", np.int16, 1)])\n",
      "/home/isua/anaconda3/envs/CAPRI/lib/python3.7/site-packages/tensorflow/python/framework/dtypes.py:519: FutureWarning: Passing (type, 1) or '1type' as a synonym of type is deprecated; in a future version of numpy, it will be understood as (type, (1,)) / '(1,)type'.\n",
      "  _np_quint16 = np.dtype([(\"quint16\", np.uint16, 1)])\n",
      "/home/isua/anaconda3/envs/CAPRI/lib/python3.7/site-packages/tensorflow/python/framework/dtypes.py:520: FutureWarning: Passing (type, 1) or '1type' as a synonym of type is deprecated; in a future version of numpy, it will be understood as (type, (1,)) / '(1,)type'.\n",
      "  _np_qint32 = np.dtype([(\"qint32\", np.int32, 1)])\n",
      "/home/isua/anaconda3/envs/CAPRI/lib/python3.7/site-packages/tensorflow/python/framework/dtypes.py:525: FutureWarning: Passing (type, 1) or '1type' as a synonym of type is deprecated; in a future version of numpy, it will be understood as (type, (1,)) / '(1,)type'.\n",
      "  np_resource = np.dtype([(\"resource\", np.ubyte, 1)])\n",
      "/home/isua/anaconda3/envs/CAPRI/lib/python3.7/site-packages/tensorboard/compat/tensorflow_stub/dtypes.py:541: FutureWarning: Passing (type, 1) or '1type' as a synonym of type is deprecated; in a future version of numpy, it will be understood as (type, (1,)) / '(1,)type'.\n",
      "  _np_qint8 = np.dtype([(\"qint8\", np.int8, 1)])\n",
      "/home/isua/anaconda3/envs/CAPRI/lib/python3.7/site-packages/tensorboard/compat/tensorflow_stub/dtypes.py:542: FutureWarning: Passing (type, 1) or '1type' as a synonym of type is deprecated; in a future version of numpy, it will be understood as (type, (1,)) / '(1,)type'.\n",
      "  _np_quint8 = np.dtype([(\"quint8\", np.uint8, 1)])\n",
      "/home/isua/anaconda3/envs/CAPRI/lib/python3.7/site-packages/tensorboard/compat/tensorflow_stub/dtypes.py:543: FutureWarning: Passing (type, 1) or '1type' as a synonym of type is deprecated; in a future version of numpy, it will be understood as (type, (1,)) / '(1,)type'.\n",
      "  _np_qint16 = np.dtype([(\"qint16\", np.int16, 1)])\n",
      "/home/isua/anaconda3/envs/CAPRI/lib/python3.7/site-packages/tensorboard/compat/tensorflow_stub/dtypes.py:544: FutureWarning: Passing (type, 1) or '1type' as a synonym of type is deprecated; in a future version of numpy, it will be understood as (type, (1,)) / '(1,)type'.\n",
      "  _np_quint16 = np.dtype([(\"quint16\", np.uint16, 1)])\n",
      "/home/isua/anaconda3/envs/CAPRI/lib/python3.7/site-packages/tensorboard/compat/tensorflow_stub/dtypes.py:545: FutureWarning: Passing (type, 1) or '1type' as a synonym of type is deprecated; in a future version of numpy, it will be understood as (type, (1,)) / '(1,)type'.\n",
      "  _np_qint32 = np.dtype([(\"qint32\", np.int32, 1)])\n",
      "/home/isua/anaconda3/envs/CAPRI/lib/python3.7/site-packages/tensorboard/compat/tensorflow_stub/dtypes.py:550: FutureWarning: Passing (type, 1) or '1type' as a synonym of type is deprecated; in a future version of numpy, it will be understood as (type, (1,)) / '(1,)type'.\n",
      "  np_resource = np.dtype([(\"resource\", np.ubyte, 1)])\n"
     ]
    }
   ],
   "source": [
    "from keras.preprocessing.image import ImageDataGenerator, load_img, img_to_array\n",
    "\n",
    "import matplotlib.pyplot as plt\n",
    "import seaborn as sns\n",
    "import os\n",
    "import numpy as np\n",
    "import pandas as pd\n",
    "\n",
    "%matplotlib inline"
   ]
  },
  {
   "cell_type": "markdown",
   "metadata": {},
   "source": [
    "# Carga de datos"
   ]
  },
  {
   "cell_type": "code",
   "execution_count": 2,
   "metadata": {},
   "outputs": [],
   "source": [
    "X_train_names_0 = os.listdir('datasets/kfold0/train/0_non_consolidation/')\n",
    "X_train_names_1 = os.listdir('datasets/kfold0/train/1_consolidation/')\n",
    "X_test_names_0 = os.listdir('datasets/kfold0/test/0_non_consolidation/')\n",
    "X_test_names_1 = os.listdir('datasets/kfold0/test/1_consolidation/')"
   ]
  },
  {
   "cell_type": "code",
   "execution_count": 3,
   "metadata": {},
   "outputs": [],
   "source": [
    "from PIL import Image\n",
    "\n",
    "def my_load_img(f):\n",
    "    img = Image.open(f)\n",
    "    fp = img.fp\n",
    "    img.load()\n",
    "    fp.closed\n",
    "    return img"
   ]
  },
  {
   "cell_type": "code",
   "execution_count": 4,
   "metadata": {},
   "outputs": [],
   "source": [
    "X_train_0 = []\n",
    "for i in X_train_names_0:\n",
    "    image = my_load_img('datasets/kfold0/train/0_non_consolidation/'+i)\n",
    "    X_train_0.append(image)\n",
    "\n",
    "    \n",
    "X_train_1 = []\n",
    "for i in X_train_names_1:\n",
    "    image = my_load_img('datasets/kfold0/train/1_consolidation/'+i)\n",
    "    X_train_1.append(image)\n",
    "    \n",
    "    \n",
    "X_test_0 = []\n",
    "for i in X_test_names_0:\n",
    "    image = my_load_img('datasets/kfold0/test/0_non_consolidation/'+i)\n",
    "    X_test_0.append(image)\n",
    "    \n",
    "    \n",
    "X_test_1 = []\n",
    "for i in X_test_names_1:\n",
    "    image = my_load_img('datasets/kfold0/test/1_consolidation/'+i)\n",
    "    X_test_1.append(image)"
   ]
  },
  {
   "cell_type": "code",
   "execution_count": 5,
   "metadata": {},
   "outputs": [],
   "source": [
    "total_images = len(X_train_0)+len(X_train_1)+len(X_test_0)+len(X_test_1)"
   ]
  },
  {
   "cell_type": "code",
   "execution_count": 6,
   "metadata": {},
   "outputs": [
    {
     "name": "stdout",
     "output_type": "stream",
     "text": [
      "okey\n"
     ]
    }
   ],
   "source": [
    "if total_images == 950:\n",
    "    print('okey')\n",
    "else:\n",
    "    print('error')"
   ]
  },
  {
   "cell_type": "code",
   "execution_count": 7,
   "metadata": {},
   "outputs": [],
   "source": [
    "y_train_0 = [0] * len(X_train_0)\n",
    "y_train_1 = [1] * len(X_train_1)\n",
    "\n",
    "y_test_0 = [0] * len(X_test_0)\n",
    "y_test_1 = [1] * len(X_test_1)\n",
    "\n",
    "y_train = y_train_0 + y_train_1\n",
    "y_test= y_test_0 + y_test_1"
   ]
  },
  {
   "cell_type": "code",
   "execution_count": 8,
   "metadata": {},
   "outputs": [],
   "source": [
    "X_train = X_train_0 + X_train_1\n",
    "X_test = X_test_0 + X_test_1"
   ]
  },
  {
   "cell_type": "code",
   "execution_count": 9,
   "metadata": {},
   "outputs": [
    {
     "name": "stdout",
     "output_type": "stream",
     "text": [
      "760\n",
      "190\n",
      "950\n"
     ]
    }
   ],
   "source": [
    "print(len(X_train))\n",
    "print(len(X_test))\n",
    "print(len(X_train)+len(X_test))"
   ]
  },
  {
   "cell_type": "markdown",
   "metadata": {},
   "source": [
    "# Chequeos en los datos"
   ]
  },
  {
   "cell_type": "code",
   "execution_count": 11,
   "metadata": {},
   "outputs": [
    {
     "data": {
      "image/png": "[encoded data removed]",
      "text/plain": [
       "<Figure size 432x288 with 1 Axes>"
      ]
     },
     "metadata": {
      "needs_background": "light"
     },
     "output_type": "display_data"
    }
   ],
   "source": [
    "X_train_0_n = len(X_train_0)\n",
    "X_train_1_n = len(X_train_1)\n",
    "X_train_plot = X_train_0_n, X_train_1_n\n",
    "\n",
    "from matplotlib.ticker import FuncFormatter\n",
    "import matplotlib.pyplot as plt\n",
    "import numpy as np\n",
    "\n",
    "X = ['normal', 'consolidation']\n",
    "\n",
    "fig, ax = plt.subplots()\n",
    "plt.bar(X, X_train_plot, color=['blue', 'magenta'])\n",
    "plt.xticks(X, ('normal', 'consolidation'))\n",
    "plt.show()"
   ]
  },
  {
   "cell_type": "code",
   "execution_count": 12,
   "metadata": {},
   "outputs": [
    {
     "data": {
      "image/png": "[encoded data removed]",
      "text/plain": [
       "<Figure size 432x288 with 1 Axes>"
      ]
     },
     "metadata": {
      "needs_background": "light"
     },
     "output_type": "display_data"
    }
   ],
   "source": [
    "X_test_0_n = len(X_test_0)\n",
    "X_test_1_n = len(X_test_1)\n",
    "X_test_plot = X_test_0_n, X_test_1_n\n",
    "\n",
    "from matplotlib.ticker import FuncFormatter\n",
    "import matplotlib.pyplot as plt\n",
    "import numpy as np\n",
    "\n",
    "X = ['normal', 'consolidation']\n",
    "\n",
    "fig, ax = plt.subplots()\n",
    "plt.bar(X, X_test_plot, color=['blue', 'magenta'])\n",
    "plt.xticks(X, ('normal', 'consolidation'))\n",
    "plt.show()"
   ]
  },
  {
   "cell_type": "markdown",
   "metadata": {},
   "source": [
    "## Paso a grises:"
   ]
  },
  {
   "cell_type": "code",
   "execution_count": null,
   "metadata": {},
   "outputs": [],
   "source": []
  },
  {
   "cell_type": "code",
   "execution_count": 13,
   "metadata": {},
   "outputs": [],
   "source": [
    "X_train_gris = []\n",
    "for im in X_train:\n",
    "    X_train_gris.append(im.convert(\"L\"))\n",
    "    \n",
    "    \n",
    "X_test_gris = []\n",
    "for im in X_test:\n",
    "    X_test_gris.append(im.convert(\"L\"))"
   ]
  },
  {
   "cell_type": "markdown",
   "metadata": {},
   "source": [
    "# Modelos básicos"
   ]
  },
  {
   "cell_type": "markdown",
   "metadata": {},
   "source": [
    "## Dummy"
   ]
  },
  {
   "cell_type": "code",
   "execution_count": null,
   "metadata": {},
   "outputs": [],
   "source": []
  },
  {
   "cell_type": "code",
   "execution_count": 16,
   "metadata": {},
   "outputs": [
    {
     "name": "stdout",
     "output_type": "stream",
     "text": [
      "Score del clasificador Dummy en test: 0.5736842105263158\n"
     ]
    }
   ],
   "source": [
    "from sklearn.dummy import DummyClassifier\n",
    "\n",
    "clf = DummyClassifier(strategy='prior')\n",
    "clf.fit(X=X_train_gris, y=y_train)\n",
    "print('Score del clasificador Dummy en test:', clf.score(X=X_test_gris,y=y_test))\n",
    "# Nota: DummyClassifier en realidad no usa X"
   ]
  },
  {
   "cell_type": "code",
   "execution_count": 17,
   "metadata": {},
   "outputs": [
    {
     "data": {
      "image/png": "[encoded data removed]",
      "text/plain": [
       "<Figure size 360x360 with 2 Axes>"
      ]
     },
     "metadata": {
      "needs_background": "light"
     },
     "output_type": "display_data"
    }
   ],
   "source": [
    "from scikitplot.metrics import plot_confusion_matrix # pip install scikit-plot\n",
    "plot_confusion_matrix(y_test, clf.predict(X_test_gris),\n",
    "                      x_tick_rotation=60, figsize=(5,5),\n",
    "                      text_fontsize='large');"
   ]
  },
  {
   "cell_type": "markdown",
   "metadata": {},
   "source": [
    "## Regresión Logística"
   ]
  },
  {
   "cell_type": "markdown",
   "metadata": {},
   "source": [
    "### Primero \"aplano\" las imágenes:"
   ]
  },
  {
   "cell_type": "code",
   "execution_count": 18,
   "metadata": {},
   "outputs": [
    {
     "data": {
      "text/plain": [
       "((760, 100, 100), (190, 100, 100))"
      ]
     },
     "execution_count": 18,
     "metadata": {},
     "output_type": "execute_result"
    }
   ],
   "source": [
    "new_size = (100,100)\n",
    "\n",
    "imagenes_tr_resized = np.array([np.array(im.resize(new_size)) for im in X_train_gris]) / 255\n",
    "imagenes_te_resized = np.array([np.array(im.resize(new_size)) for im in X_test_gris]) / 255\n",
    "\n",
    "imagenes_tr_resized.shape, imagenes_te_resized.shape"
   ]
  },
  {
   "cell_type": "code",
   "execution_count": 19,
   "metadata": {},
   "outputs": [
    {
     "data": {
      "text/plain": [
       "((760, 10000), (190, 10000))"
      ]
     },
     "execution_count": 19,
     "metadata": {},
     "output_type": "execute_result"
    }
   ],
   "source": [
    "imagenes_tr_flat = imagenes_tr_resized.reshape(len(imagenes_tr_resized), -1)\n",
    "imagenes_te_flat = imagenes_te_resized.reshape(len(imagenes_te_resized), -1)\n",
    "\n",
    "imagenes_tr_flat.shape, imagenes_te_flat.shape"
   ]
  },
  {
   "cell_type": "code",
   "execution_count": 20,
   "metadata": {},
   "outputs": [
    {
     "name": "stderr",
     "output_type": "stream",
     "text": [
      "/home/isua/anaconda3/envs/CAPRI/lib/python3.7/site-packages/sklearn/linear_model/logistic.py:432: FutureWarning: Default solver will be changed to 'lbfgs' in 0.22. Specify a solver to silence this warning.\n",
      "  FutureWarning)\n"
     ]
    },
    {
     "name": "stdout",
     "output_type": "stream",
     "text": [
      "Score de la regresión logística en test: 0.5473684210526316\n"
     ]
    }
   ],
   "source": [
    "from sklearn.linear_model import LogisticRegression\n",
    "\n",
    "clf = LogisticRegression()\n",
    "clf.fit(X=imagenes_tr_flat, y=y_train)\n",
    "print('Score de la regresión logística en test:', clf.score(X=imagenes_te_flat,y=y_test))"
   ]
  },
  {
   "cell_type": "code",
   "execution_count": 21,
   "metadata": {},
   "outputs": [],
   "source": [
    "y_te_pred = clf.predict(imagenes_te_flat)"
   ]
  },
  {
   "cell_type": "code",
   "execution_count": 22,
   "metadata": {},
   "outputs": [
    {
     "data": {
      "image/png": "[encoded data removed]",
      "text/plain": [
       "<Figure size 360x360 with 2 Axes>"
      ]
     },
     "metadata": {
      "needs_background": "light"
     },
     "output_type": "display_data"
    }
   ],
   "source": [
    "plot_confusion_matrix(y_test, y_te_pred, cmap=\"bwr\",\n",
    "                      x_tick_rotation=60, figsize=(5,5),\n",
    "                      text_fontsize='large');"
   ]
  },
  {
   "cell_type": "code",
   "execution_count": 23,
   "metadata": {},
   "outputs": [],
   "source": [
    "from sklearn.metrics import classification_report, roc_curve, auc\n",
    "\n",
    "def report(y_num, y_pred, y_prob_pred):\n",
    "    print('')\n",
    "    print(classification_report(y_num, y_pred))\n",
    "\n",
    "    fpr, tpr, thresholds = roc_curve(y_num, y_prob_pred)\n",
    "    fig, ax1 = plt.subplots(1,1)\n",
    "    ax1.plot(fpr, tpr, 'r-.', label = 'Simple model (%2.2f)' % auc(fpr, tpr))\n",
    "    ax1.set_xlabel('False Positive Rate')\n",
    "    ax1.set_ylabel('True Positive Rate')\n",
    "    ax1.plot(fpr, fpr, 'b-', label = 'Random Guess')\n",
    "    ax1.legend();"
   ]
  },
  {
   "cell_type": "code",
   "execution_count": 24,
   "metadata": {},
   "outputs": [
    {
     "data": {
      "text/plain": [
       "array([0, 1])"
      ]
     },
     "execution_count": 24,
     "metadata": {},
     "output_type": "execute_result"
    }
   ],
   "source": [
    "clf.classes_"
   ]
  },
  {
   "cell_type": "code",
   "execution_count": 25,
   "metadata": {},
   "outputs": [
    {
     "name": "stdout",
     "output_type": "stream",
     "text": [
      "\n",
      "              precision    recall  f1-score   support\n",
      "\n",
      "           0       0.60      0.64      0.62       109\n",
      "           1       0.47      0.42      0.44        81\n",
      "\n",
      "    accuracy                           0.55       190\n",
      "   macro avg       0.53      0.53      0.53       190\n",
      "weighted avg       0.54      0.55      0.54       190\n",
      "\n"
     ]
    },
    {
     "data": {
      "image/png": "[encoded data removed]",
      "text/plain": [
       "<Figure size 432x288 with 1 Axes>"
      ]
     },
     "metadata": {
      "needs_background": "light"
     },
     "output_type": "display_data"
    }
   ],
   "source": [
    "report(y_test, y_te_pred,\n",
    "            clf.predict_proba(imagenes_te_flat)[:,1])"
   ]
  },
  {
   "cell_type": "markdown",
   "metadata": {},
   "source": [
    "# CNN"
   ]
  },
  {
   "cell_type": "code",
   "execution_count": 26,
   "metadata": {},
   "outputs": [],
   "source": [
    "from keras.models import Sequential, load_model, Model\n",
    "from keras.layers import (Dense, Dropout, Flatten, Conv2D, MaxPooling2D, Activation,\n",
    "                          BatchNormalization)\n",
    "from keras import backend as K\n",
    "from keras import regularizers\n",
    "from keras.losses import binary_crossentropy\n",
    "from keras import optimizers\n",
    "from keras.callbacks import ModelCheckpoint\n",
    "\n",
    "from IPython.display import SVG\n",
    "from keras.utils.vis_utils import model_to_dot"
   ]
  },
  {
   "cell_type": "code",
   "execution_count": 27,
   "metadata": {},
   "outputs": [
    {
     "data": {
      "text/plain": [
       "((760, 64, 64), (190, 64, 64))"
      ]
     },
     "execution_count": 27,
     "metadata": {},
     "output_type": "execute_result"
    }
   ],
   "source": [
    "new_size = (64,64)\n",
    "\n",
    "aux_tr = np.array([np.array(im.resize(new_size)) for im in X_train_gris])\n",
    "aux_te = np.array([np.array(im.resize(new_size)) for im in X_test_gris])\n",
    "\n",
    "aux_tr.shape, aux_te.shape"
   ]
  },
  {
   "cell_type": "code",
   "execution_count": 28,
   "metadata": {},
   "outputs": [],
   "source": [
    "imgs_tr_resized2 = np.array([np.expand_dims(np.array(im),2) for im in aux_tr]) / 255\n",
    "imgs_te_resized2 = np.array([np.expand_dims(np.array(im),2) for im in aux_te]) / 255"
   ]
  },
  {
   "cell_type": "code",
   "execution_count": 29,
   "metadata": {},
   "outputs": [
    {
     "data": {
      "text/plain": [
       "1.0"
      ]
     },
     "execution_count": 29,
     "metadata": {},
     "output_type": "execute_result"
    }
   ],
   "source": [
    "imgs_tr_resized2.max()"
   ]
  },
  {
   "cell_type": "code",
   "execution_count": 30,
   "metadata": {},
   "outputs": [
    {
     "data": {
      "text/plain": [
       "(64, 64, 1)"
      ]
     },
     "execution_count": 30,
     "metadata": {},
     "output_type": "execute_result"
    }
   ],
   "source": [
    "imgs_tr_resized2[0].shape"
   ]
  },
  {
   "cell_type": "code",
   "execution_count": 31,
   "metadata": {},
   "outputs": [],
   "source": [
    "norm_images_tr = []\n",
    "\n",
    "for image in imgs_tr_resized2:\n",
    "    norm_image = np.divide(image, image.mean())\n",
    "    norm_images_tr.append(norm_image)\n",
    "    \n",
    "    \n",
    "norm_images_te = []\n",
    "\n",
    "for image in imgs_te_resized2:\n",
    "    norm_image = np.divide(image, image.mean())\n",
    "    norm_images_te.append(norm_image)"
   ]
  },
  {
   "cell_type": "code",
   "execution_count": 32,
   "metadata": {},
   "outputs": [],
   "source": [
    "imgs_tr_resized2 = np.array(norm_images_tr)\n",
    "imgs_te_resized2 = np.array(norm_images_te)"
   ]
  },
  {
   "cell_type": "code",
   "execution_count": 33,
   "metadata": {},
   "outputs": [],
   "source": [
    "def mi_montage2d(data):\n",
    "    n = len(data)\n",
    "    lado = int(np.ceil(np.sqrt(n)))\n",
    "    alto1, ancho1 = data.shape[1:]\n",
    "    aux = np.zeros((lado*alto1, lado*ancho1))\n",
    "    for i,image in enumerate(data):\n",
    "        row = i // lado\n",
    "        col = i % lado\n",
    "        aux[(row*alto1):((row+1)*alto1), (col*ancho1):((col+1)*ancho1)] = image\n",
    "    return aux\n",
    "\n",
    "def draw_borders(ax, ntiles, tile_width, tile_height, color='r'):\n",
    "    \n",
    "    aux1 = int(np.ceil(np.sqrt(ntiles)))\n",
    "    \n",
    "    npixels_y = tile_height*aux1\n",
    "    for i in range(aux1-1):\n",
    "        aux2 = (i+1)*tile_width - 0.5\n",
    "        ax.plot([aux2, aux2], [0, npixels_y - 1], color, linewidth=3)\n",
    "        \n",
    "    npixels_x = tile_width*aux1\n",
    "    for i in range(aux1-1):\n",
    "        aux2 = (i+1)*tile_height - 0.5\n",
    "        ax.plot([0, npixels_x - 1], [aux2, aux2], color)"
   ]
  },
  {
   "cell_type": "code",
   "execution_count": 34,
   "metadata": {},
   "outputs": [
    {
     "data": {
      "image/png": "[encoded data removed]",
      "text/plain": [
       "<Figure size 720x216 with 1 Axes>"
      ]
     },
     "metadata": {
      "needs_background": "light"
     },
     "output_type": "display_data"
    }
   ],
   "source": [
    "plt.figure(figsize=(10,3))\n",
    "sns.distplot(imgs_tr_resized2.reshape(-1), bins=50, hist=True, kde=True)\n",
    "plt.xlabel('Intensidades de los pixels (training)', fontsize=14);"
   ]
  },
  {
   "cell_type": "code",
   "execution_count": 36,
   "metadata": {},
   "outputs": [],
   "source": [
    "from matplotlib.ticker import MaxNLocator\n",
    "\n",
    "def grafica_entrenamiento(tr_acc=[], val_acc=[], tr_loss=[], val_loss=[], best_epoch=0,\n",
    "                          figsize=(10,4)):\n",
    "    plt.figure(figsize=figsize)\n",
    "    if len(val_acc)>0:\n",
    "        ax = plt.subplot(1,2,1)\n",
    "        plt.plot(1+np.arange(len(tr_acc)),  100*np.array(tr_acc))\n",
    "        plt.plot(1+np.arange(len(val_acc)), 100*np.array(val_acc))\n",
    "        plt.plot(1+best_epoch, 100*val_acc[best_epoch], 'or')\n",
    "        plt.title('tasa de acierto del modelo (%)', fontsize=18)\n",
    "        plt.ylabel('tasa de acierto (%)', fontsize=18)\n",
    "        plt.xlabel('época', fontsize=18)\n",
    "        plt.legend(['entrenamiento', 'validación'], loc='upper left')\n",
    "        ax.xaxis.set_major_locator(MaxNLocator(integer=True))\n",
    "        ax = plt.subplot(1,2,2)\n",
    "    else:\n",
    "        ax = plt.subplot(1,1,1)\n",
    "    \n",
    "    plt.plot(1+np.arange(len(tr_loss)), np.array(tr_loss))\n",
    "    plt.plot(1+np.arange(len(val_loss)), np.array(val_loss))\n",
    "    plt.plot(1+best_epoch, val_loss[best_epoch], 'or')\n",
    "    plt.title('loss del modelo', fontsize=18)\n",
    "    plt.ylabel('loss', fontsize=18)\n",
    "    plt.xlabel('época', fontsize=18)\n",
    "    plt.legend(['entrenamiento', 'validación'], loc='upper left')\n",
    "    ax.xaxis.set_major_locator(MaxNLocator(integer=True))\n",
    "    plt.show()"
   ]
  },
  {
   "cell_type": "markdown",
   "metadata": {},
   "source": [
    "## Arquitectura del modelo"
   ]
  },
  {
   "cell_type": "code",
   "execution_count": 37,
   "metadata": {},
   "outputs": [
    {
     "data": {
      "text/plain": [
       "(760, 64, 64, 1)"
      ]
     },
     "execution_count": 37,
     "metadata": {},
     "output_type": "execute_result"
    }
   ],
   "source": [
    "imgs_tr_resized2.shape"
   ]
  },
  {
   "cell_type": "code",
   "execution_count": 38,
   "metadata": {},
   "outputs": [
    {
     "name": "stderr",
     "output_type": "stream",
     "text": [
      "WARNING: Logging before flag parsing goes to stderr.\n",
      "W1116 00:44:31.219440 140254063683392 deprecation_wrapper.py:119] From /home/isua/anaconda3/envs/CAPRI/lib/python3.7/site-packages/keras/backend/tensorflow_backend.py:74: The name tf.get_default_graph is deprecated. Please use tf.compat.v1.get_default_graph instead.\n",
      "\n",
      "W1116 00:44:31.394069 140254063683392 deprecation_wrapper.py:119] From /home/isua/anaconda3/envs/CAPRI/lib/python3.7/site-packages/keras/backend/tensorflow_backend.py:517: The name tf.placeholder is deprecated. Please use tf.compat.v1.placeholder instead.\n",
      "\n",
      "W1116 00:44:31.400537 140254063683392 deprecation_wrapper.py:119] From /home/isua/anaconda3/envs/CAPRI/lib/python3.7/site-packages/keras/backend/tensorflow_backend.py:4138: The name tf.random_uniform is deprecated. Please use tf.random.uniform instead.\n",
      "\n",
      "W1116 00:44:31.485521 140254063683392 deprecation_wrapper.py:119] From /home/isua/anaconda3/envs/CAPRI/lib/python3.7/site-packages/keras/backend/tensorflow_backend.py:3976: The name tf.nn.max_pool is deprecated. Please use tf.nn.max_pool2d instead.\n",
      "\n",
      "W1116 00:44:31.718478 140254063683392 deprecation_wrapper.py:119] From /home/isua/anaconda3/envs/CAPRI/lib/python3.7/site-packages/keras/optimizers.py:790: The name tf.train.Optimizer is deprecated. Please use tf.compat.v1.train.Optimizer instead.\n",
      "\n",
      "W1116 00:44:31.744982 140254063683392 deprecation_wrapper.py:119] From /home/isua/anaconda3/envs/CAPRI/lib/python3.7/site-packages/keras/backend/tensorflow_backend.py:3376: The name tf.log is deprecated. Please use tf.math.log instead.\n",
      "\n",
      "W1116 00:44:31.754218 140254063683392 deprecation.py:323] From /home/isua/anaconda3/envs/CAPRI/lib/python3.7/site-packages/tensorflow/python/ops/nn_impl.py:180: add_dispatch_support.<locals>.wrapper (from tensorflow.python.ops.array_ops) is deprecated and will be removed in a future version.\n",
      "Instructions for updating:\n",
      "Use tf.where in 2.0, which has the same broadcast rule as np.where\n"
     ]
    }
   ],
   "source": [
    "from keras.models import Sequential\n",
    "from keras.layers import Conv2D, MaxPooling2D, Flatten, Dense\n",
    "\n",
    "model = Sequential()\n",
    "model.add(Conv2D(32, (3, 3), activation=\"relu\", input_shape=(64, 64, 1)))\n",
    "model.add(MaxPooling2D(pool_size = (2, 2)))\n",
    "model.add(Conv2D(32, (3, 3), activation=\"relu\"))\n",
    "model.add(MaxPooling2D(pool_size = (2, 2)))\n",
    "model.add(Flatten())\n",
    "model.add(Dense(activation = 'relu', units = 128))\n",
    "model.add(Dense(activation = 'sigmoid', units = 1))\n",
    "\n",
    "model.compile(optimizer = 'adam', loss = 'binary_crossentropy', metrics = ['accuracy'])"
   ]
  },
  {
   "cell_type": "code",
   "execution_count": 39,
   "metadata": {},
   "outputs": [
    {
     "name": "stdout",
     "output_type": "stream",
     "text": [
      "_________________________________________________________________\n",
      "Layer (type)                 Output Shape              Param #   \n",
      "=================================================================\n",
      "conv2d_1 (Conv2D)            (None, 62, 62, 32)        320       \n",
      "_________________________________________________________________\n",
      "max_pooling2d_1 (MaxPooling2 (None, 31, 31, 32)        0         \n",
      "_________________________________________________________________\n",
      "conv2d_2 (Conv2D)            (None, 29, 29, 32)        9248      \n",
      "_________________________________________________________________\n",
      "max_pooling2d_2 (MaxPooling2 (None, 14, 14, 32)        0         \n",
      "_________________________________________________________________\n",
      "flatten_1 (Flatten)          (None, 6272)              0         \n",
      "_________________________________________________________________\n",
      "dense_1 (Dense)              (None, 128)               802944    \n",
      "_________________________________________________________________\n",
      "dense_2 (Dense)              (None, 1)                 129       \n",
      "=================================================================\n",
      "Total params: 812,641\n",
      "Trainable params: 812,641\n",
      "Non-trainable params: 0\n",
      "_________________________________________________________________\n"
     ]
    }
   ],
   "source": [
    "model.summary()"
   ]
  },
  {
   "cell_type": "code",
   "execution_count": 40,
   "metadata": {
    "scrolled": true
   },
   "outputs": [
    {
     "data": {
      "image/svg+xml": [
       "<svg height=\"626pt\" viewBox=\"0.00 0.00 388.00 626.00\" width=\"388pt\" xmlns=\"http://www.w3.org/2000/svg\" xmlns:xlink=\"http://www.w3.org/1999/xlink\">\n",
       "<g class=\"graph\" id=\"graph0\" transform=\"scale(1 1) rotate(0) translate(4 622)\">\n",
       "<title>G</title>\n",
       "<polygon fill=\"#ffffff\" points=\"-4,4 -4,-622 384,-622 384,4 -4,4\" stroke=\"transparent\"/>\n",
       "<!-- 140252227056584 -->\n",
       "<g class=\"node\" id=\"node1\">\n",
       "<title>140252227056584</title>\n",
       "<polygon fill=\"none\" points=\"42,-498.5 42,-544.5 338,-544.5 338,-498.5 42,-498.5\" stroke=\"#000000\"/>\n",
       "<text fill=\"#000000\" font-family=\"Times,serif\" font-size=\"14.00\" text-anchor=\"middle\" x=\"103.5\" y=\"-517.8\">conv2d_1: Conv2D</text>\n",
       "<polyline fill=\"none\" points=\"165,-498.5 165,-544.5 \" stroke=\"#000000\"/>\n",
       "<text fill=\"#000000\" font-family=\"Times,serif\" font-size=\"14.00\" text-anchor=\"middle\" x=\"192.5\" y=\"-529.3\">input:</text>\n",
       "<polyline fill=\"none\" points=\"165,-521.5 220,-521.5 \" stroke=\"#000000\"/>\n",
       "<text fill=\"#000000\" font-family=\"Times,serif\" font-size=\"14.00\" text-anchor=\"middle\" x=\"192.5\" y=\"-506.3\">output:</text>\n",
       "<polyline fill=\"none\" points=\"220,-498.5 220,-544.5 \" stroke=\"#000000\"/>\n",
       "<text fill=\"#000000\" font-family=\"Times,serif\" font-size=\"14.00\" text-anchor=\"middle\" x=\"279\" y=\"-529.3\">(None, 64, 64, 1)</text>\n",
       "<polyline fill=\"none\" points=\"220,-521.5 338,-521.5 \" stroke=\"#000000\"/>\n",
       "<text fill=\"#000000\" font-family=\"Times,serif\" font-size=\"14.00\" text-anchor=\"middle\" x=\"279\" y=\"-506.3\">(None, 62, 62, 32)</text>\n",
       "</g>\n",
       "<!-- 140252227057200 -->\n",
       "<g class=\"node\" id=\"node2\">\n",
       "<title>140252227057200</title>\n",
       "<polygon fill=\"none\" points=\"0,-415.5 0,-461.5 380,-461.5 380,-415.5 0,-415.5\" stroke=\"#000000\"/>\n",
       "<text fill=\"#000000\" font-family=\"Times,serif\" font-size=\"14.00\" text-anchor=\"middle\" x=\"103.5\" y=\"-434.8\">max_pooling2d_1: MaxPooling2D</text>\n",
       "<polyline fill=\"none\" points=\"207,-415.5 207,-461.5 \" stroke=\"#000000\"/>\n",
       "<text fill=\"#000000\" font-family=\"Times,serif\" font-size=\"14.00\" text-anchor=\"middle\" x=\"234.5\" y=\"-446.3\">input:</text>\n",
       "<polyline fill=\"none\" points=\"207,-438.5 262,-438.5 \" stroke=\"#000000\"/>\n",
       "<text fill=\"#000000\" font-family=\"Times,serif\" font-size=\"14.00\" text-anchor=\"middle\" x=\"234.5\" y=\"-423.3\">output:</text>\n",
       "<polyline fill=\"none\" points=\"262,-415.5 262,-461.5 \" stroke=\"#000000\"/>\n",
       "<text fill=\"#000000\" font-family=\"Times,serif\" font-size=\"14.00\" text-anchor=\"middle\" x=\"321\" y=\"-446.3\">(None, 62, 62, 32)</text>\n",
       "<polyline fill=\"none\" points=\"262,-438.5 380,-438.5 \" stroke=\"#000000\"/>\n",
       "<text fill=\"#000000\" font-family=\"Times,serif\" font-size=\"14.00\" text-anchor=\"middle\" x=\"321\" y=\"-423.3\">(None, 31, 31, 32)</text>\n",
       "</g>\n",
       "<!-- 140252227056584&#45;&gt;140252227057200 -->\n",
       "<g class=\"edge\" id=\"edge2\">\n",
       "<title>140252227056584-&gt;140252227057200</title>\n",
       "<path d=\"M190,-498.3799C190,-490.1745 190,-480.7679 190,-471.8786\" fill=\"none\" stroke=\"#000000\"/>\n",
       "<polygon fill=\"#000000\" points=\"193.5001,-471.784 190,-461.784 186.5001,-471.784 193.5001,-471.784\" stroke=\"#000000\"/>\n",
       "</g>\n",
       "<!-- 140252227057984 -->\n",
       "<g class=\"node\" id=\"node3\">\n",
       "<title>140252227057984</title>\n",
       "<polygon fill=\"none\" points=\"42,-332.5 42,-378.5 338,-378.5 338,-332.5 42,-332.5\" stroke=\"#000000\"/>\n",
       "<text fill=\"#000000\" font-family=\"Times,serif\" font-size=\"14.00\" text-anchor=\"middle\" x=\"103.5\" y=\"-351.8\">conv2d_2: Conv2D</text>\n",
       "<polyline fill=\"none\" points=\"165,-332.5 165,-378.5 \" stroke=\"#000000\"/>\n",
       "<text fill=\"#000000\" font-family=\"Times,serif\" font-size=\"14.00\" text-anchor=\"middle\" x=\"192.5\" y=\"-363.3\">input:</text>\n",
       "<polyline fill=\"none\" points=\"165,-355.5 220,-355.5 \" stroke=\"#000000\"/>\n",
       "<text fill=\"#000000\" font-family=\"Times,serif\" font-size=\"14.00\" text-anchor=\"middle\" x=\"192.5\" y=\"-340.3\">output:</text>\n",
       "<polyline fill=\"none\" points=\"220,-332.5 220,-378.5 \" stroke=\"#000000\"/>\n",
       "<text fill=\"#000000\" font-family=\"Times,serif\" font-size=\"14.00\" text-anchor=\"middle\" x=\"279\" y=\"-363.3\">(None, 31, 31, 32)</text>\n",
       "<polyline fill=\"none\" points=\"220,-355.5 338,-355.5 \" stroke=\"#000000\"/>\n",
       "<text fill=\"#000000\" font-family=\"Times,serif\" font-size=\"14.00\" text-anchor=\"middle\" x=\"279\" y=\"-340.3\">(None, 29, 29, 32)</text>\n",
       "</g>\n",
       "<!-- 140252227057200&#45;&gt;140252227057984 -->\n",
       "<g class=\"edge\" id=\"edge3\">\n",
       "<title>140252227057200-&gt;140252227057984</title>\n",
       "<path d=\"M190,-415.3799C190,-407.1745 190,-397.7679 190,-388.8786\" fill=\"none\" stroke=\"#000000\"/>\n",
       "<polygon fill=\"#000000\" points=\"193.5001,-388.784 190,-378.784 186.5001,-388.784 193.5001,-388.784\" stroke=\"#000000\"/>\n",
       "</g>\n",
       "<!-- 140251968089336 -->\n",
       "<g class=\"node\" id=\"node4\">\n",
       "<title>140251968089336</title>\n",
       "<polygon fill=\"none\" points=\"0,-249.5 0,-295.5 380,-295.5 380,-249.5 0,-249.5\" stroke=\"#000000\"/>\n",
       "<text fill=\"#000000\" font-family=\"Times,serif\" font-size=\"14.00\" text-anchor=\"middle\" x=\"103.5\" y=\"-268.8\">max_pooling2d_2: MaxPooling2D</text>\n",
       "<polyline fill=\"none\" points=\"207,-249.5 207,-295.5 \" stroke=\"#000000\"/>\n",
       "<text fill=\"#000000\" font-family=\"Times,serif\" font-size=\"14.00\" text-anchor=\"middle\" x=\"234.5\" y=\"-280.3\">input:</text>\n",
       "<polyline fill=\"none\" points=\"207,-272.5 262,-272.5 \" stroke=\"#000000\"/>\n",
       "<text fill=\"#000000\" font-family=\"Times,serif\" font-size=\"14.00\" text-anchor=\"middle\" x=\"234.5\" y=\"-257.3\">output:</text>\n",
       "<polyline fill=\"none\" points=\"262,-249.5 262,-295.5 \" stroke=\"#000000\"/>\n",
       "<text fill=\"#000000\" font-family=\"Times,serif\" font-size=\"14.00\" text-anchor=\"middle\" x=\"321\" y=\"-280.3\">(None, 29, 29, 32)</text>\n",
       "<polyline fill=\"none\" points=\"262,-272.5 380,-272.5 \" stroke=\"#000000\"/>\n",
       "<text fill=\"#000000\" font-family=\"Times,serif\" font-size=\"14.00\" text-anchor=\"middle\" x=\"321\" y=\"-257.3\">(None, 14, 14, 32)</text>\n",
       "</g>\n",
       "<!-- 140252227057984&#45;&gt;140251968089336 -->\n",
       "<g class=\"edge\" id=\"edge4\">\n",
       "<title>140252227057984-&gt;140251968089336</title>\n",
       "<path d=\"M190,-332.3799C190,-324.1745 190,-314.7679 190,-305.8786\" fill=\"none\" stroke=\"#000000\"/>\n",
       "<polygon fill=\"#000000\" points=\"193.5001,-305.784 190,-295.784 186.5001,-305.784 193.5001,-305.784\" stroke=\"#000000\"/>\n",
       "</g>\n",
       "<!-- 140252224943104 -->\n",
       "<g class=\"node\" id=\"node5\">\n",
       "<title>140252224943104</title>\n",
       "<polygon fill=\"none\" points=\"48.5,-166.5 48.5,-212.5 331.5,-212.5 331.5,-166.5 48.5,-166.5\" stroke=\"#000000\"/>\n",
       "<text fill=\"#000000\" font-family=\"Times,serif\" font-size=\"14.00\" text-anchor=\"middle\" x=\"103.5\" y=\"-185.8\">flatten_1: Flatten</text>\n",
       "<polyline fill=\"none\" points=\"158.5,-166.5 158.5,-212.5 \" stroke=\"#000000\"/>\n",
       "<text fill=\"#000000\" font-family=\"Times,serif\" font-size=\"14.00\" text-anchor=\"middle\" x=\"186\" y=\"-197.3\">input:</text>\n",
       "<polyline fill=\"none\" points=\"158.5,-189.5 213.5,-189.5 \" stroke=\"#000000\"/>\n",
       "<text fill=\"#000000\" font-family=\"Times,serif\" font-size=\"14.00\" text-anchor=\"middle\" x=\"186\" y=\"-174.3\">output:</text>\n",
       "<polyline fill=\"none\" points=\"213.5,-166.5 213.5,-212.5 \" stroke=\"#000000\"/>\n",
       "<text fill=\"#000000\" font-family=\"Times,serif\" font-size=\"14.00\" text-anchor=\"middle\" x=\"272.5\" y=\"-197.3\">(None, 14, 14, 32)</text>\n",
       "<polyline fill=\"none\" points=\"213.5,-189.5 331.5,-189.5 \" stroke=\"#000000\"/>\n",
       "<text fill=\"#000000\" font-family=\"Times,serif\" font-size=\"14.00\" text-anchor=\"middle\" x=\"272.5\" y=\"-174.3\">(None, 6272)</text>\n",
       "</g>\n",
       "<!-- 140251968089336&#45;&gt;140252224943104 -->\n",
       "<g class=\"edge\" id=\"edge5\">\n",
       "<title>140251968089336-&gt;140252224943104</title>\n",
       "<path d=\"M190,-249.3799C190,-241.1745 190,-231.7679 190,-222.8786\" fill=\"none\" stroke=\"#000000\"/>\n",
       "<polygon fill=\"#000000\" points=\"193.5001,-222.784 190,-212.784 186.5001,-222.784 193.5001,-222.784\" stroke=\"#000000\"/>\n",
       "</g>\n",
       "<!-- 140251967896432 -->\n",
       "<g class=\"node\" id=\"node6\">\n",
       "<title>140251967896432</title>\n",
       "<polygon fill=\"none\" points=\"67,-83.5 67,-129.5 313,-129.5 313,-83.5 67,-83.5\" stroke=\"#000000\"/>\n",
       "<text fill=\"#000000\" font-family=\"Times,serif\" font-size=\"14.00\" text-anchor=\"middle\" x=\"118\" y=\"-102.8\">dense_1: Dense</text>\n",
       "<polyline fill=\"none\" points=\"169,-83.5 169,-129.5 \" stroke=\"#000000\"/>\n",
       "<text fill=\"#000000\" font-family=\"Times,serif\" font-size=\"14.00\" text-anchor=\"middle\" x=\"196.5\" y=\"-114.3\">input:</text>\n",
       "<polyline fill=\"none\" points=\"169,-106.5 224,-106.5 \" stroke=\"#000000\"/>\n",
       "<text fill=\"#000000\" font-family=\"Times,serif\" font-size=\"14.00\" text-anchor=\"middle\" x=\"196.5\" y=\"-91.3\">output:</text>\n",
       "<polyline fill=\"none\" points=\"224,-83.5 224,-129.5 \" stroke=\"#000000\"/>\n",
       "<text fill=\"#000000\" font-family=\"Times,serif\" font-size=\"14.00\" text-anchor=\"middle\" x=\"268.5\" y=\"-114.3\">(None, 6272)</text>\n",
       "<polyline fill=\"none\" points=\"224,-106.5 313,-106.5 \" stroke=\"#000000\"/>\n",
       "<text fill=\"#000000\" font-family=\"Times,serif\" font-size=\"14.00\" text-anchor=\"middle\" x=\"268.5\" y=\"-91.3\">(None, 128)</text>\n",
       "</g>\n",
       "<!-- 140252224943104&#45;&gt;140251967896432 -->\n",
       "<g class=\"edge\" id=\"edge6\">\n",
       "<title>140252224943104-&gt;140251967896432</title>\n",
       "<path d=\"M190,-166.3799C190,-158.1745 190,-148.7679 190,-139.8786\" fill=\"none\" stroke=\"#000000\"/>\n",
       "<polygon fill=\"#000000\" points=\"193.5001,-139.784 190,-129.784 186.5001,-139.784 193.5001,-139.784\" stroke=\"#000000\"/>\n",
       "</g>\n",
       "<!-- 140251967897048 -->\n",
       "<g class=\"node\" id=\"node7\">\n",
       "<title>140251967897048</title>\n",
       "<polygon fill=\"none\" points=\"70,-.5 70,-46.5 310,-46.5 310,-.5 70,-.5\" stroke=\"#000000\"/>\n",
       "<text fill=\"#000000\" font-family=\"Times,serif\" font-size=\"14.00\" text-anchor=\"middle\" x=\"121\" y=\"-19.8\">dense_2: Dense</text>\n",
       "<polyline fill=\"none\" points=\"172,-.5 172,-46.5 \" stroke=\"#000000\"/>\n",
       "<text fill=\"#000000\" font-family=\"Times,serif\" font-size=\"14.00\" text-anchor=\"middle\" x=\"199.5\" y=\"-31.3\">input:</text>\n",
       "<polyline fill=\"none\" points=\"172,-23.5 227,-23.5 \" stroke=\"#000000\"/>\n",
       "<text fill=\"#000000\" font-family=\"Times,serif\" font-size=\"14.00\" text-anchor=\"middle\" x=\"199.5\" y=\"-8.3\">output:</text>\n",
       "<polyline fill=\"none\" points=\"227,-.5 227,-46.5 \" stroke=\"#000000\"/>\n",
       "<text fill=\"#000000\" font-family=\"Times,serif\" font-size=\"14.00\" text-anchor=\"middle\" x=\"268.5\" y=\"-31.3\">(None, 128)</text>\n",
       "<polyline fill=\"none\" points=\"227,-23.5 310,-23.5 \" stroke=\"#000000\"/>\n",
       "<text fill=\"#000000\" font-family=\"Times,serif\" font-size=\"14.00\" text-anchor=\"middle\" x=\"268.5\" y=\"-8.3\">(None, 1)</text>\n",
       "</g>\n",
       "<!-- 140251967896432&#45;&gt;140251967897048 -->\n",
       "<g class=\"edge\" id=\"edge7\">\n",
       "<title>140251967896432-&gt;140251967897048</title>\n",
       "<path d=\"M190,-83.3799C190,-75.1745 190,-65.7679 190,-56.8786\" fill=\"none\" stroke=\"#000000\"/>\n",
       "<polygon fill=\"#000000\" points=\"193.5001,-56.784 190,-46.784 186.5001,-56.784 193.5001,-56.784\" stroke=\"#000000\"/>\n",
       "</g>\n",
       "<!-- 140252227058096 -->\n",
       "<g class=\"node\" id=\"node8\">\n",
       "<title>140252227058096</title>\n",
       "<polygon fill=\"none\" points=\"131,-581.5 131,-617.5 249,-617.5 249,-581.5 131,-581.5\" stroke=\"#000000\"/>\n",
       "<text fill=\"#000000\" font-family=\"Times,serif\" font-size=\"14.00\" text-anchor=\"middle\" x=\"190\" y=\"-595.8\">140252227058096</text>\n",
       "</g>\n",
       "<!-- 140252227058096&#45;&gt;140252227056584 -->\n",
       "<g class=\"edge\" id=\"edge1\">\n",
       "<title>140252227058096-&gt;140252227056584</title>\n",
       "<path d=\"M190,-581.4092C190,-573.4308 190,-563.795 190,-554.606\" fill=\"none\" stroke=\"#000000\"/>\n",
       "<polygon fill=\"#000000\" points=\"193.5001,-554.5333 190,-544.5333 186.5001,-554.5334 193.5001,-554.5333\" stroke=\"#000000\"/>\n",
       "</g>\n",
       "</g>\n",
       "</svg>"
      ],
      "text/plain": [
       "<IPython.core.display.SVG object>"
      ]
     },
     "execution_count": 40,
     "metadata": {},
     "output_type": "execute_result"
    }
   ],
   "source": [
    "# graphviz\n",
    "from IPython.display import SVG\n",
    "from keras.utils.vis_utils import model_to_dot\n",
    "SVG(model_to_dot(model, show_shapes=True).create(prog='dot', format='svg'))"
   ]
  },
  {
   "cell_type": "markdown",
   "metadata": {},
   "source": [
    "Como la red tiene dos neuronas de salida, el target tendrá que tener dos componentes. \n",
    "\n",
    "**Clase 0:** las componentes son [1, 0]. **Clase 1:** las componentes son [0, 1]:"
   ]
  },
  {
   "cell_type": "code",
   "execution_count": 41,
   "metadata": {},
   "outputs": [],
   "source": [
    "y_train = np.asarray(y_train)\n",
    "y_test = np.asarray(y_test)"
   ]
  },
  {
   "cell_type": "code",
   "execution_count": 42,
   "metadata": {},
   "outputs": [],
   "source": [
    "#y_tr2 = np.hstack((1-y_train.reshape(-1,1), y_train.reshape(-1,1)))\n",
    "#y_te2 = np.hstack((1-y_test.reshape(-1,1), y_test.reshape(-1,1)))\n",
    "#y_tr2.shape, y_te2.shape"
   ]
  },
  {
   "cell_type": "code",
   "execution_count": 43,
   "metadata": {},
   "outputs": [],
   "source": [
    "from sklearn.model_selection import train_test_split\n",
    "X_training, X_val, y_training, y_val = train_test_split(imgs_tr_resized2, y_train,\n",
    "                                                        test_size=0.3, random_state=7)"
   ]
  },
  {
   "cell_type": "code",
   "execution_count": 44,
   "metadata": {},
   "outputs": [
    {
     "name": "stdout",
     "output_type": "stream",
     "text": [
      "(532,)\n",
      "(228,)\n"
     ]
    }
   ],
   "source": [
    "print(y_training.shape)\n",
    "print(y_val.shape)"
   ]
  },
  {
   "cell_type": "code",
   "execution_count": 45,
   "metadata": {},
   "outputs": [],
   "source": [
    "from IPython.display import clear_output"
   ]
  },
  {
   "cell_type": "code",
   "execution_count": 46,
   "metadata": {},
   "outputs": [],
   "source": [
    "acum_tr_acc   = []\n",
    "acum_val_acc  = []\n",
    "acum_tr_loss  = []\n",
    "acum_val_loss = []\n",
    "best_val_acc = -1e50\n",
    "best_epoch = 0\n",
    "epoca = 0\n",
    "\n",
    "epochs = 500"
   ]
  },
  {
   "cell_type": "code",
   "execution_count": 47,
   "metadata": {},
   "outputs": [],
   "source": [
    "batch_size = 32\n",
    "\n",
    "train_generator = train_datagen.flow(X_training, y=y_training, batch_size=batch_size)"
   ]
  },
  {
   "cell_type": "code",
   "execution_count": 48,
   "metadata": {
    "scrolled": true
   },
   "outputs": [
    {
     "data": {
      "image/png": "[encoded data removed]",
      "text/plain": [
       "<Figure size 720x288 with 2 Axes>"
      ]
     },
     "metadata": {
      "needs_background": "light"
     },
     "output_type": "display_data"
    }
   ],
   "source": [
    "LOAD_MODEL = False\n",
    "\n",
    "if not LOAD_MODEL:\n",
    "    filepath=\"saved_model/manuel_version_pneumonia_kfold10_0.h5\"\n",
    "    \n",
    "    checkpoint = ModelCheckpoint(filepath, monitor='val_acc', verbose=1,\n",
    "                                 save_best_only=True,\n",
    "                                 mode='max') # graba sólo los que mejoran en validación\n",
    "    callbacks_list = [checkpoint]\n",
    "    \n",
    "    for i in range(epochs):\n",
    "        history = model.fit_generator(train_generator,\n",
    "                                      steps_per_epoch=int(np.ceil(len(X_training)/batch_size)),\n",
    "                                      epochs=1,\n",
    "                                      callbacks=callbacks_list,\n",
    "                                      verbose=1,\n",
    "                                      validation_data=(X_val, y_val))\n",
    "                \n",
    "        acum_tr_acc.append(history.history['acc'][-1])\n",
    "        acum_val_acc.append(history.history['val_acc'][-1])\n",
    "        acum_tr_loss.append(history.history['loss'][-1])\n",
    "        acum_val_loss.append(history.history['val_loss'][-1])\n",
    "        \n",
    "        if len(acum_tr_acc) > 1:\n",
    "            if acum_val_acc[-1] > best_val_acc:\n",
    "                best_epoch = epoca\n",
    "                best_val_acc = acum_val_acc[-1]\n",
    "            \n",
    "            clear_output()\n",
    "            grafica_entrenamiento(acum_tr_acc, acum_val_acc,\n",
    "                                  acum_tr_loss, acum_val_loss, best_epoch)\n",
    "        \n",
    "        epoca = epoca + 1\n",
    "            \n",
    "else:\n",
    "    filepath = \"saved_model/manuel_version_pneumonia_kfold10_0.h5\""
   ]
  },
  {
   "cell_type": "markdown",
   "metadata": {},
   "source": [
    "# Resultados obtenidos por el modelo CNN"
   ]
  },
  {
   "cell_type": "code",
   "execution_count": 49,
   "metadata": {},
   "outputs": [],
   "source": [
    "model = load_model(filepath)"
   ]
  },
  {
   "cell_type": "code",
   "execution_count": 50,
   "metadata": {},
   "outputs": [
    {
     "name": "stdout",
     "output_type": "stream",
     "text": [
      "Train loss    : 0.3912787934891263\n",
      "Train accuracy: 0.8270676682766219\n",
      "Val loss    : 0.796568501936762\n",
      "Val accuracy: 0.706140350877193\n",
      "Test loss     : 0.7951320736031783\n",
      "Test accuracy : 0.6263157904148102\n"
     ]
    }
   ],
   "source": [
    "score_tr = model.evaluate(X_training, y_training, verbose=0)\n",
    "print('Train loss    :', score_tr[0])\n",
    "print('Train accuracy:', score_tr[1])\n",
    "\n",
    "score_val = model.evaluate(X_val, y_val, verbose=0)\n",
    "print('Val loss    :', score_val[0])\n",
    "print('Val accuracy:', score_val[1])\n",
    "\n",
    "score_te = model.evaluate(imgs_te_resized2, y_test, verbose=0)\n",
    "print('Test loss     :', score_te[0])\n",
    "print('Test accuracy :', score_te[1])"
   ]
  },
  {
   "cell_type": "code",
   "execution_count": 51,
   "metadata": {},
   "outputs": [],
   "source": [
    "def save_result(score_tr, score_val, score_te, version_name):\n",
    "    \n",
    "    keys = [\"Train loss\", \"Train accuracy\", \"Val loss\", \"Val accuracy\", \"Test loss\", \"Test accuracy\"]\n",
    "    values = [score_tr[0], score_tr[1], score_val[0], score_val[1], score_te[0], score_te[1]]\n",
    "    \n",
    "    result_dict = {}\n",
    "    for i in range(len(keys)):\n",
    "        result_dict[keys[i]] = values[i]\n",
    "        \n",
    "    f = open(\"saved_result/\"+version_name+\".txt\",\"w\")\n",
    "    f.write( str(result_dict) )\n",
    "    f.close()"
   ]
  },
  {
   "cell_type": "code",
   "execution_count": 52,
   "metadata": {},
   "outputs": [],
   "source": [
    "version_name=\"manuel_version_pneumonia_kfold10_0\"\n",
    "save_result(score_tr, score_val, score_te, version_name)"
   ]
  },
  {
   "cell_type": "code",
   "execution_count": 53,
   "metadata": {},
   "outputs": [
    {
     "name": "stdout",
     "output_type": "stream",
     "text": [
      "\n",
      "              precision    recall  f1-score   support\n",
      "\n",
      "           0       0.64      0.79      0.71       109\n",
      "           1       0.59      0.41      0.48        81\n",
      "\n",
      "    accuracy                           0.63       190\n",
      "   macro avg       0.62      0.60      0.59       190\n",
      "weighted avg       0.62      0.63      0.61       190\n",
      "\n"
     ]
    },
    {
     "data": {
      "image/png": "[encoded data removed]",
      "text/plain": [
       "<Figure size 432x288 with 1 Axes>"
      ]
     },
     "metadata": {
      "needs_background": "light"
     },
     "output_type": "display_data"
    }
   ],
   "source": [
    "y_te_prob_pred = model.predict(imgs_te_resized2)\n",
    "y_te_pred = 1*(y_te_prob_pred>0.5)\n",
    "\n",
    "report(y_test, y_te_pred, y_te_prob_pred)"
   ]
  },
  {
   "cell_type": "code",
   "execution_count": 54,
   "metadata": {},
   "outputs": [
    {
     "data": {
      "text/plain": [
       "array([[86, 23],\n",
       "       [48, 33]])"
      ]
     },
     "execution_count": 54,
     "metadata": {},
     "output_type": "execute_result"
    }
   ],
   "source": [
    "from sklearn.metrics import confusion_matrix\n",
    "\n",
    "confusion_matrix(y_test, y_te_pred)"
   ]
  },
  {
   "cell_type": "markdown",
   "metadata": {},
   "source": [
    "#### Casos de test con más probabilidad de clase 1 (consolidation):"
   ]
  },
  {
   "cell_type": "code",
   "execution_count": 55,
   "metadata": {},
   "outputs": [
    {
     "data": {
      "text/plain": [
       "array([0, 0, 0, 0, 0, 0, 0, 0, 0, 0, 0, 0, 0, 0, 0, 0, 0, 0, 0, 0, 0, 0,\n",
       "       0, 0, 0, 0, 0, 0, 0, 0, 0, 0, 0, 0, 0, 0, 0, 0, 0, 0, 0, 0, 0, 0,\n",
       "       0, 0, 0, 0, 0, 0, 0, 0, 0, 0, 0, 0, 0, 0, 0, 0, 0, 0, 0, 0, 0, 0,\n",
       "       0, 0, 0, 0, 0, 0, 0, 0, 0, 0, 0, 0, 0, 0, 0, 0, 0, 0, 0, 0, 0, 0,\n",
       "       0, 0, 0, 0, 0, 0, 0, 0, 0, 0, 0, 0, 0, 0, 0, 0, 0, 0, 0, 0, 0, 1,\n",
       "       1, 1, 1, 1, 1, 1, 1, 1, 1, 1, 1, 1, 1, 1, 1, 1, 1, 1, 1, 1, 1, 1,\n",
       "       1, 1, 1, 1, 1, 1, 1, 1, 1, 1, 1, 1, 1, 1, 1, 1, 1, 1, 1, 1, 1, 1,\n",
       "       1, 1, 1, 1, 1, 1, 1, 1, 1, 1, 1, 1, 1, 1, 1, 1, 1, 1, 1, 1, 1, 1,\n",
       "       1, 1, 1, 1, 1, 1, 1, 1, 1, 1, 1, 1, 1, 1])"
      ]
     },
     "execution_count": 55,
     "metadata": {},
     "output_type": "execute_result"
    }
   ],
   "source": [
    "inds = np.argsort(y_te_prob_pred)"
   ]
  },
  {
   "cell_type": "code",
   "execution_count": 56,
   "metadata": {},
   "outputs": [],
   "source": [
    "y_te_prob_pred = np.array(y_te_prob_pred)"
   ]
  },
  {
   "cell_type": "code",
   "execution_count": 58,
   "metadata": {},
   "outputs": [],
   "source": [
    "df = pd.DataFrame({\"Clase real\":y_test})"
   ]
  },
  {
   "cell_type": "code",
   "execution_count": 60,
   "metadata": {},
   "outputs": [],
   "source": [
    "df.to_csv ('./predicted_labels/manuel_version_pneumonia_kfold10_0.csv', \n",
    "           index = None, \n",
    "           header=None)"
   ]
  }
 ],
 "metadata": {
  "kernelspec": {
   "display_name": "Python 3",
   "language": "python",
   "name": "python3"
  },
  "language_info": {
   "codemirror_mode": {
    "name": "ipython",
    "version": 3
   },
   "file_extension": ".py",
   "mimetype": "text/x-python",
   "name": "python",
   "nbconvert_exporter": "python",
   "pygments_lexer": "ipython3",
   "version": "3.7.3"
  }
 },
 "nbformat": 4,
 "nbformat_minor": 2
}
