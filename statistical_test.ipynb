{
 "cells": [
  {
   "cell_type": "code",
   "execution_count": 2,
   "metadata": {},
   "outputs": [],
   "source": [
    "from scipy.stats import levene, normaltest, f_oneway"
   ]
  },
  {
   "cell_type": "code",
   "execution_count": null,
   "metadata": {},
   "outputs": [],
   "source": [
    "alpha = 0.05"
   ]
  },
  {
   "cell_type": "code",
   "execution_count": null,
   "metadata": {},
   "outputs": [],
   "source": [
    "normal_test_stat, normal_test_pvalue = normaltest(all_AUC) # Introduce a array with all values, no by model\n",
    "\n",
    "\n",
    "if normal_test_pvalue < alpha:  \n",
    "    print('Reject null hypothesis: Data has not normal distribution')\n",
    "else:\n",
    "    print(\"Accept null hypothesis: Data has normal distribution\")"
   ]
  },
  {
   "cell_type": "code",
   "execution_count": null,
   "metadata": {},
   "outputs": [],
   "source": [
    "levene_test_stats, levene_test_pvalue = levene(auc_90, auc_102, auc_108, auc_121, auc_125, auc_124) # Introduce values by model as array\n",
    "\n",
    "\n",
    "if levene_test_pvalue < alpha:\n",
    "    print('Reject null hypothesis: there are differences between variances')\n",
    "else:\n",
    "    print('Accept null hypothesis: the variances are equal between samples')"
   ]
  },
  {
   "cell_type": "code",
   "execution_count": null,
   "metadata": {},
   "outputs": [],
   "source": [
    "ANOVA_result = stats.f_oneway(auc_90, auc_102, auc_108, auc_121, auc_125, auc_124)  # Introduce values by model as array\n",
    "\n",
    "\n",
    "if ANOVA_result[1] < alpha:\n",
    "    print('Reject null hypothesis: there are differences between means')\n",
    "else:\n",
    "    print('Accept null hypothesis: the means are equal between samples')"
   ]
  },
  {
   "cell_type": "code",
   "execution_count": null,
   "metadata": {},
   "outputs": [],
   "source": [
    "kruskal_test_stat, kruskal_test_p =kruskal(auc_102,auc_108,auc_121,auc_90,auc_125,auc_124,auc_pneumonia)  # Introduce values by model as array\n",
    "\n",
    "\n",
    "if kruskal_test_p < alpha:\n",
    "    print('Reject null hypothesis: there are differences between mean')\n",
    "else:\n",
    "    print('Accept null hypothesis: the means are equal between samples')"
   ]
  },
  {
   "cell_type": "code",
   "execution_count": null,
   "metadata": {},
   "outputs": [],
   "source": [
    "table__posthoc_ DSCF = sp.posthoc_dscf(pd_melt, val_col='value', group_col='model') \n",
    "\n",
    "# The data has to be sorted with all folds of all models in a column"
   ]
  },
  {
   "cell_type": "code",
   "execution_count": null,
   "metadata": {},
   "outputs": [],
   "source": []
  },
  {
   "cell_type": "code",
   "execution_count": null,
   "metadata": {},
   "outputs": [],
   "source": []
  }
 ],
 "metadata": {
  "kernelspec": {
   "display_name": "Python 3",
   "language": "python",
   "name": "python3"
  },
  "language_info": {
   "codemirror_mode": {
    "name": "ipython",
    "version": 3
   },
   "file_extension": ".py",
   "mimetype": "text/x-python",
   "name": "python",
   "nbconvert_exporter": "python",
   "pygments_lexer": "ipython3",
   "version": "3.7.3"
  }
 },
 "nbformat": 4,
 "nbformat_minor": 2
}
