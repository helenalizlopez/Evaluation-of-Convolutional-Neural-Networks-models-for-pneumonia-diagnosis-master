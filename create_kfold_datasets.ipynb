{
 "cells": [
  {
   "cell_type": "code",
   "execution_count": 1,
   "metadata": {},
   "outputs": [
    {
     "name": "stderr",
     "output_type": "stream",
     "text": [
      "Using TensorFlow backend.\n"
     ]
    }
   ],
   "source": [
    "from keras.preprocessing.image import ImageDataGenerator, load_img, img_to_array\n",
    "\n",
    "import matplotlib.pyplot as plt\n",
    "import seaborn as sns\n",
    "import os\n",
    "import numpy as np\n",
    "import pandas as pd\n",
    "import random\n",
    "\n",
    "%matplotlib inline"
   ]
  },
  {
   "cell_type": "code",
   "execution_count": 2,
   "metadata": {},
   "outputs": [],
   "source": [
    "df = pd.read_excel(\"./CAPRI-XRAYS/Labels_CAPRI_03-04-19.xlsx\")"
   ]
  },
  {
   "cell_type": "code",
   "execution_count": 3,
   "metadata": {},
   "outputs": [
    {
     "name": "stdout",
     "output_type": "stream",
     "text": [
      "1000 1000 1000\n"
     ]
    },
    {
     "data": {
      "text/plain": [
       "array(['Picture (1).jpg', 'Picture (2).jpg', 'Picture (3).jpg',\n",
       "       'Picture (4).jpg', 'Picture (5).jpg', 'Picture (6).jpg',\n",
       "       'Picture (7).jpg', 'Picture (8).jpg', 'Picture (9).JPG',\n",
       "       'Picture (10).jpg'], dtype=object)"
      ]
     },
     "execution_count": 3,
     "metadata": {},
     "output_type": "execute_result"
    }
   ],
   "source": [
    "file_names       = df[\"NEW filename\"].values\n",
    "final_label      = df[\"Final_label\"].values\n",
    "final_label_code = df[\"Final_label_code\"].values\n",
    "\n",
    "print(len(file_names), len(final_label), len(final_label_code))\n",
    "\n",
    "file_names[:10]"
   ]
  },
  {
   "cell_type": "code",
   "execution_count": 4,
   "metadata": {},
   "outputs": [
    {
     "name": "stdout",
     "output_type": "stream",
     "text": [
      "Iguales\n"
     ]
    }
   ],
   "source": [
    "# Chequeo si este otro excel es igual (al menos la columna \"NEW filename\") que el anterior\n",
    "df2 = pd.read_excel(\"./CAPRI-XRAYS/Picture (500)(1)/For Ron 1000 New filename.xlsx\")\n",
    "aux = df2[\"NEW filename\"].values\n",
    "\n",
    "if (file_names != aux).sum() == 0:\n",
    "    print(\"Iguales\")\n",
    "else:\n",
    "    print(\"Diferentes\")"
   ]
  },
  {
   "cell_type": "code",
   "execution_count": 5,
   "metadata": {},
   "outputs": [],
   "source": [
    "from PIL import Image\n",
    "\n",
    "def my_load_img(f):\n",
    "    img = Image.open(f)\n",
    "    fp = img.fp\n",
    "    img.load()\n",
    "    fp.closed\n",
    "    return img"
   ]
  },
  {
   "cell_type": "code",
   "execution_count": 6,
   "metadata": {},
   "outputs": [],
   "source": [
    "path_root1 = \"./CAPRI-XRAYS/Picture (500)(1)/\"\n",
    "imagenes1 = [my_load_img(os.path.join(path_root1, x)) for x in file_names[:500]]\n",
    "\n",
    "path_root2 = \"./CAPRI-XRAYS/Picture (1000)(1)/\"\n",
    "imagenes2 = [my_load_img(os.path.join(path_root2, x)) for x in file_names[500:]]\n",
    "\n",
    "imagenes = imagenes1 + imagenes2"
   ]
  },
  {
   "cell_type": "code",
   "execution_count": 7,
   "metadata": {},
   "outputs": [],
   "source": [
    "flags = (final_label_code != \"remove\")\n",
    "\n",
    "imagenes         = [x for x,flag in zip(imagenes,flags) if flag]\n",
    "file_names       = file_names[flags]\n",
    "final_label      = final_label[flags]\n",
    "final_label_code = final_label_code[flags]"
   ]
  },
  {
   "cell_type": "code",
   "execution_count": 8,
   "metadata": {},
   "outputs": [],
   "source": [
    "from sklearn.model_selection import StratifiedKFold"
   ]
  },
  {
   "cell_type": "code",
   "execution_count": 11,
   "metadata": {},
   "outputs": [],
   "source": [
    "import preProcess as pp\n",
    "from sklearn.model_selection import StratifiedShuffleSplit"
   ]
  },
  {
   "cell_type": "markdown",
   "metadata": {},
   "source": [
    "# Cargar imágenes"
   ]
  },
  {
   "cell_type": "code",
   "execution_count": 14,
   "metadata": {},
   "outputs": [],
   "source": [
    "rootPath = 'kfold_5'\n",
    "if not os.path.exists(rootPath):\n",
    "    os.mkdir(rootPath)\n",
    "else:\n",
    "    print('error')"
   ]
  },
  {
   "cell_type": "code",
   "execution_count": 15,
   "metadata": {},
   "outputs": [
    {
     "name": "stdout",
     "output_type": "stream",
     "text": [
      "760\n"
     ]
    }
   ],
   "source": [
    "print(len(trainIndex[0]))"
   ]
  },
  {
   "cell_type": "code",
   "execution_count": 16,
   "metadata": {
    "scrolled": true
   },
   "outputs": [],
   "source": [
    "for i in range(len(trainIndex)):\n",
    "    if not os.path.exists(rootPath+'/kfold'+str(i)):\n",
    "        os.mkdir(rootPath+'/kfold'+str(i))\n",
    "    if not os.path.exists(rootPath+'/kfold'+str(i)+'/train'):\n",
    "        os.mkdir(rootPath+'/kfold'+str(i)+'/train')\n",
    "        \n",
    "    if not os.path.exists(rootPath+'/kfold'+str(i)+'/train'+'/1_consolidation'):\n",
    "        os.mkdir(rootPath+'/kfold'+str(i)+'/train'+'/1_consolidation')\n",
    "    if not os.path.exists(rootPath+'/kfold'+str(i)+'/train'+'/0_non_consolidation'):\n",
    "        os.mkdir(rootPath+'/kfold'+str(i)+'/train'+'/0_non_consolidation')\n",
    "        \n",
    "        \n",
    "    for index in trainIndex[i]:\n",
    "        if final_label[index] == 0:\n",
    "            imagenes[index].save(rootPath+'/kfold'+str(i)+'/train'+'/0_non_consolidation/picture_'+str(index)+'.jpg')\n",
    "        else:\n",
    "            imagenes[index].save(rootPath+'/kfold'+str(i)+'/train'+'/1_consolidation/picture_'+str(index)+'.jpg')        \n"
   ]
  },
  {
   "cell_type": "code",
   "execution_count": 17,
   "metadata": {},
   "outputs": [],
   "source": [
    "for i in range(len(testIndex)):  \n",
    "    if not os.path.exists(rootPath+'/kfold'+str(i)+'/test'):\n",
    "        os.mkdir(rootPath+'/kfold'+str(i)+'/test')\n",
    "    if not os.path.exists(rootPath+'/kfold'+str(i)+'/test'+'/1_consolidation'):\n",
    "        os.mkdir(rootPath+'/kfold'+str(i)+'/test'+'/1_consolidation')\n",
    "    if not os.path.exists(rootPath+'/kfold'+str(i)+'/test'+'/0_non_consolidation'):\n",
    "        os.mkdir(rootPath+'/kfold'+str(i)+'/test'+'/0_non_consolidation')\n",
    "        \n",
    "        \n",
    "    for index in testIndex[i]:\n",
    "        if final_label[index] == 0:\n",
    "            imagenes[index].save(rootPath+'/kfold'+str(i)+'/test'+'/0_non_consolidation/picture_'+str(index)+'.jpg')\n",
    "        else:\n",
    "            imagenes[index].save(rootPath+'/kfold'+str(i)+'/test'+'/1_consolidation/picture_'+str(index)+'.jpg')"
   ]
  },
  {
   "cell_type": "code",
   "execution_count": null,
   "metadata": {},
   "outputs": [],
   "source": []
  }
 ],
 "metadata": {
  "kernelspec": {
   "display_name": "Python 3",
   "language": "python",
   "name": "python3"
  },
  "language_info": {
   "codemirror_mode": {
    "name": "ipython",
    "version": 3
   },
   "file_extension": ".py",
   "mimetype": "text/x-python",
   "name": "python",
   "nbconvert_exporter": "python",
   "pygments_lexer": "ipython3",
   "version": "3.7.3"
  }
 },
 "nbformat": 4,
 "nbformat_minor": 2
}
